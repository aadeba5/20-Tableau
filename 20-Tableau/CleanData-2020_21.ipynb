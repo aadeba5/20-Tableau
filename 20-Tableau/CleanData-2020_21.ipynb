{
 "cells": [
  {
   "cell_type": "code",
   "execution_count": 43,
   "metadata": {},
   "outputs": [],
   "source": [
    "import pandas as pd"
   ]
  },
  {
   "cell_type": "code",
   "execution_count": 44,
   "metadata": {},
   "outputs": [
    {
     "output_type": "execute_result",
     "data": {
      "text/plain": [
       "'2020 Dataset of Trip History'"
      ]
     },
     "metadata": {},
     "execution_count": 44
    }
   ],
   "source": [
    "{}\n",
    "'2020 Dataset of Trip History'"
   ]
  },
  {
   "cell_type": "code",
   "execution_count": 45,
   "metadata": {
    "scrolled": true
   },
   "outputs": [
    {
     "output_type": "execute_result",
     "data": {
      "text/plain": [
       "   tripduration                 starttime                  stoptime  \\\n",
       "0           841  2020-02-01 00:02:13.7650  2020-02-01 00:16:15.4720   \n",
       "1           206  2020-02-01 00:16:11.3850  2020-02-01 00:19:37.4460   \n",
       "2           859  2020-02-01 00:23:22.1090  2020-02-01 00:37:41.5060   \n",
       "3           693  2020-02-01 00:25:14.5170  2020-02-01 00:36:48.0280   \n",
       "4          1473  2020-02-01 00:32:30.5050  2020-02-01 00:57:04.3740   \n",
       "\n",
       "   start station id  start station name  start station latitude  \\\n",
       "0              3199        Newport Pkwy               40.728745   \n",
       "1              3273        Manila & 1st               40.721651   \n",
       "2              3185           City Hall               40.717733   \n",
       "3              3185           City Hall               40.717733   \n",
       "4              3192  Liberty Light Rail               40.711242   \n",
       "\n",
       "   start station longitude  end station id         end station name  \\\n",
       "0               -74.032108            3213           Van Vorst Park   \n",
       "1               -74.042884            3639               Harborside   \n",
       "2               -74.043845            3268           Lafayette Park   \n",
       "3               -74.043845            3277  Communipaw & Berry Lane   \n",
       "4               -74.055701            3639               Harborside   \n",
       "\n",
       "   end station latitude  end station longitude  bikeid    usertype  \\\n",
       "0             40.718489             -74.047727   42217  Subscriber   \n",
       "1             40.719252             -74.034234   42160  Subscriber   \n",
       "2             40.713464             -74.062859   42204    Customer   \n",
       "3             40.714358             -74.066611   42165  Subscriber   \n",
       "4             40.719252             -74.034234   26156    Customer   \n",
       "\n",
       "   birth year  gender  \n",
       "0        1980       1  \n",
       "1        1990       1  \n",
       "2        1991       1  \n",
       "3        1987       1  \n",
       "4        1969       0  "
      ],
      "text/html": "<div>\n<style scoped>\n    .dataframe tbody tr th:only-of-type {\n        vertical-align: middle;\n    }\n\n    .dataframe tbody tr th {\n        vertical-align: top;\n    }\n\n    .dataframe thead th {\n        text-align: right;\n    }\n</style>\n<table border=\"1\" class=\"dataframe\">\n  <thead>\n    <tr style=\"text-align: right;\">\n      <th></th>\n      <th>tripduration</th>\n      <th>starttime</th>\n      <th>stoptime</th>\n      <th>start station id</th>\n      <th>start station name</th>\n      <th>start station latitude</th>\n      <th>start station longitude</th>\n      <th>end station id</th>\n      <th>end station name</th>\n      <th>end station latitude</th>\n      <th>end station longitude</th>\n      <th>bikeid</th>\n      <th>usertype</th>\n      <th>birth year</th>\n      <th>gender</th>\n    </tr>\n  </thead>\n  <tbody>\n    <tr>\n      <th>0</th>\n      <td>841</td>\n      <td>2020-02-01 00:02:13.7650</td>\n      <td>2020-02-01 00:16:15.4720</td>\n      <td>3199</td>\n      <td>Newport Pkwy</td>\n      <td>40.728745</td>\n      <td>-74.032108</td>\n      <td>3213</td>\n      <td>Van Vorst Park</td>\n      <td>40.718489</td>\n      <td>-74.047727</td>\n      <td>42217</td>\n      <td>Subscriber</td>\n      <td>1980</td>\n      <td>1</td>\n    </tr>\n    <tr>\n      <th>1</th>\n      <td>206</td>\n      <td>2020-02-01 00:16:11.3850</td>\n      <td>2020-02-01 00:19:37.4460</td>\n      <td>3273</td>\n      <td>Manila &amp; 1st</td>\n      <td>40.721651</td>\n      <td>-74.042884</td>\n      <td>3639</td>\n      <td>Harborside</td>\n      <td>40.719252</td>\n      <td>-74.034234</td>\n      <td>42160</td>\n      <td>Subscriber</td>\n      <td>1990</td>\n      <td>1</td>\n    </tr>\n    <tr>\n      <th>2</th>\n      <td>859</td>\n      <td>2020-02-01 00:23:22.1090</td>\n      <td>2020-02-01 00:37:41.5060</td>\n      <td>3185</td>\n      <td>City Hall</td>\n      <td>40.717733</td>\n      <td>-74.043845</td>\n      <td>3268</td>\n      <td>Lafayette Park</td>\n      <td>40.713464</td>\n      <td>-74.062859</td>\n      <td>42204</td>\n      <td>Customer</td>\n      <td>1991</td>\n      <td>1</td>\n    </tr>\n    <tr>\n      <th>3</th>\n      <td>693</td>\n      <td>2020-02-01 00:25:14.5170</td>\n      <td>2020-02-01 00:36:48.0280</td>\n      <td>3185</td>\n      <td>City Hall</td>\n      <td>40.717733</td>\n      <td>-74.043845</td>\n      <td>3277</td>\n      <td>Communipaw &amp; Berry Lane</td>\n      <td>40.714358</td>\n      <td>-74.066611</td>\n      <td>42165</td>\n      <td>Subscriber</td>\n      <td>1987</td>\n      <td>1</td>\n    </tr>\n    <tr>\n      <th>4</th>\n      <td>1473</td>\n      <td>2020-02-01 00:32:30.5050</td>\n      <td>2020-02-01 00:57:04.3740</td>\n      <td>3192</td>\n      <td>Liberty Light Rail</td>\n      <td>40.711242</td>\n      <td>-74.055701</td>\n      <td>3639</td>\n      <td>Harborside</td>\n      <td>40.719252</td>\n      <td>-74.034234</td>\n      <td>26156</td>\n      <td>Customer</td>\n      <td>1969</td>\n      <td>0</td>\n    </tr>\n  </tbody>\n</table>\n</div>"
     },
     "metadata": {},
     "execution_count": 45
    }
   ],
   "source": [
    "df_one_2020 = pd.read_csv(\"202002_citibike_1.csv\")\n",
    "df_one_2020.head()"
   ]
  },
  {
   "cell_type": "code",
   "execution_count": 46,
   "metadata": {},
   "outputs": [
    {
     "output_type": "execute_result",
     "data": {
      "text/plain": [
       "   tripduration                 starttime                  stoptime  \\\n",
       "0           389  2020-03-01 00:14:07.0000  2020-03-01 00:20:36.0880   \n",
       "1           242  2020-03-01 00:48:06.4390  2020-03-01 00:52:08.9870   \n",
       "2           124  2020-03-01 01:08:46.4880  2020-03-01 01:10:51.2780   \n",
       "3           104  2020-03-01 01:22:35.4790  2020-03-01 01:24:20.2470   \n",
       "4           228  2020-03-01 01:39:20.2680  2020-03-01 01:43:09.1380   \n",
       "\n",
       "   start station id start station name  start station latitude  \\\n",
       "0              3202       Newport PATH               40.727224   \n",
       "1              3185          City Hall               40.717733   \n",
       "2              3272       Jersey & 3rd               40.723332   \n",
       "3              3202       Newport PATH               40.727224   \n",
       "4              3194    McGinley Square               40.725340   \n",
       "\n",
       "   start station longitude  end station id   end station name  \\\n",
       "0               -74.033759            3203      Hamilton Park   \n",
       "1               -74.043845            3205  JC Medical Center   \n",
       "2               -74.045953            3278   Monmouth and 6th   \n",
       "3               -74.033759            3638      Washington St   \n",
       "4               -74.067622            3280        Astor Place   \n",
       "\n",
       "   end station latitude  end station longitude  bikeid    usertype  \\\n",
       "0             40.727596             -74.044247   42381  Subscriber   \n",
       "1             40.716540             -74.049638   42155  Subscriber   \n",
       "2             40.725685             -74.048790   42376  Subscriber   \n",
       "3             40.724294             -74.035483   42350  Subscriber   \n",
       "4             40.719282             -74.071262   42235  Subscriber   \n",
       "\n",
       "   birth year  gender  \n",
       "0        1992       1  \n",
       "1        1991       1  \n",
       "2        1987       0  \n",
       "3        1993       1  \n",
       "4        1988       1  "
      ],
      "text/html": "<div>\n<style scoped>\n    .dataframe tbody tr th:only-of-type {\n        vertical-align: middle;\n    }\n\n    .dataframe tbody tr th {\n        vertical-align: top;\n    }\n\n    .dataframe thead th {\n        text-align: right;\n    }\n</style>\n<table border=\"1\" class=\"dataframe\">\n  <thead>\n    <tr style=\"text-align: right;\">\n      <th></th>\n      <th>tripduration</th>\n      <th>starttime</th>\n      <th>stoptime</th>\n      <th>start station id</th>\n      <th>start station name</th>\n      <th>start station latitude</th>\n      <th>start station longitude</th>\n      <th>end station id</th>\n      <th>end station name</th>\n      <th>end station latitude</th>\n      <th>end station longitude</th>\n      <th>bikeid</th>\n      <th>usertype</th>\n      <th>birth year</th>\n      <th>gender</th>\n    </tr>\n  </thead>\n  <tbody>\n    <tr>\n      <th>0</th>\n      <td>389</td>\n      <td>2020-03-01 00:14:07.0000</td>\n      <td>2020-03-01 00:20:36.0880</td>\n      <td>3202</td>\n      <td>Newport PATH</td>\n      <td>40.727224</td>\n      <td>-74.033759</td>\n      <td>3203</td>\n      <td>Hamilton Park</td>\n      <td>40.727596</td>\n      <td>-74.044247</td>\n      <td>42381</td>\n      <td>Subscriber</td>\n      <td>1992</td>\n      <td>1</td>\n    </tr>\n    <tr>\n      <th>1</th>\n      <td>242</td>\n      <td>2020-03-01 00:48:06.4390</td>\n      <td>2020-03-01 00:52:08.9870</td>\n      <td>3185</td>\n      <td>City Hall</td>\n      <td>40.717733</td>\n      <td>-74.043845</td>\n      <td>3205</td>\n      <td>JC Medical Center</td>\n      <td>40.716540</td>\n      <td>-74.049638</td>\n      <td>42155</td>\n      <td>Subscriber</td>\n      <td>1991</td>\n      <td>1</td>\n    </tr>\n    <tr>\n      <th>2</th>\n      <td>124</td>\n      <td>2020-03-01 01:08:46.4880</td>\n      <td>2020-03-01 01:10:51.2780</td>\n      <td>3272</td>\n      <td>Jersey &amp; 3rd</td>\n      <td>40.723332</td>\n      <td>-74.045953</td>\n      <td>3278</td>\n      <td>Monmouth and 6th</td>\n      <td>40.725685</td>\n      <td>-74.048790</td>\n      <td>42376</td>\n      <td>Subscriber</td>\n      <td>1987</td>\n      <td>0</td>\n    </tr>\n    <tr>\n      <th>3</th>\n      <td>104</td>\n      <td>2020-03-01 01:22:35.4790</td>\n      <td>2020-03-01 01:24:20.2470</td>\n      <td>3202</td>\n      <td>Newport PATH</td>\n      <td>40.727224</td>\n      <td>-74.033759</td>\n      <td>3638</td>\n      <td>Washington St</td>\n      <td>40.724294</td>\n      <td>-74.035483</td>\n      <td>42350</td>\n      <td>Subscriber</td>\n      <td>1993</td>\n      <td>1</td>\n    </tr>\n    <tr>\n      <th>4</th>\n      <td>228</td>\n      <td>2020-03-01 01:39:20.2680</td>\n      <td>2020-03-01 01:43:09.1380</td>\n      <td>3194</td>\n      <td>McGinley Square</td>\n      <td>40.725340</td>\n      <td>-74.067622</td>\n      <td>3280</td>\n      <td>Astor Place</td>\n      <td>40.719282</td>\n      <td>-74.071262</td>\n      <td>42235</td>\n      <td>Subscriber</td>\n      <td>1988</td>\n      <td>1</td>\n    </tr>\n  </tbody>\n</table>\n</div>"
     },
     "metadata": {},
     "execution_count": 46
    }
   ],
   "source": [
    "df_two_2020 = pd.read_csv(\"202003_citibike_2.csv\")\n",
    "df_two_2020.head()"
   ]
  },
  {
   "cell_type": "code",
   "execution_count": 47,
   "metadata": {},
   "outputs": [
    {
     "output_type": "execute_result",
     "data": {
      "text/plain": [
       "   tripduration                 starttime                  stoptime  \\\n",
       "0          1437  2020-04-01 01:06:20.6300  2020-04-01 01:30:17.9680   \n",
       "1           264  2020-04-01 05:02:42.0570  2020-04-01 05:07:06.1260   \n",
       "2           254  2020-04-01 06:20:28.1190  2020-04-01 06:24:42.1380   \n",
       "3           429  2020-04-01 06:33:30.5170  2020-04-01 06:40:40.1990   \n",
       "4           805  2020-04-01 06:38:32.9220  2020-04-01 06:51:58.2050   \n",
       "\n",
       "   start station id start station name  start station latitude  \\\n",
       "0              3678      Fairmount Ave               40.725726   \n",
       "1              3207        Oakland Ave               40.737604   \n",
       "2              3678      Fairmount Ave               40.725726   \n",
       "3              3195            Sip Ave               40.730897   \n",
       "4              3193       Lincoln Park               40.724605   \n",
       "\n",
       "   start station longitude  end station id end station name  \\\n",
       "0               -74.071959            3678    Fairmount Ave   \n",
       "1               -74.052478            3195          Sip Ave   \n",
       "2               -74.071959            3195          Sip Ave   \n",
       "3               -74.063913            3679       Bergen Ave   \n",
       "4               -74.078406            3195          Sip Ave   \n",
       "\n",
       "   end station latitude  end station longitude  bikeid    usertype  \\\n",
       "0             40.725726             -74.071959   42314    Customer   \n",
       "1             40.730897             -74.063913   42146  Subscriber   \n",
       "2             40.730897             -74.063913   42255  Subscriber   \n",
       "3             40.722104             -74.071455   42529  Subscriber   \n",
       "4             40.730897             -74.063913   42362  Subscriber   \n",
       "\n",
       "   birth year  gender  \n",
       "0        2002       2  \n",
       "1        1963       2  \n",
       "2        1981       1  \n",
       "3        1964       1  \n",
       "4        1965       1  "
      ],
      "text/html": "<div>\n<style scoped>\n    .dataframe tbody tr th:only-of-type {\n        vertical-align: middle;\n    }\n\n    .dataframe tbody tr th {\n        vertical-align: top;\n    }\n\n    .dataframe thead th {\n        text-align: right;\n    }\n</style>\n<table border=\"1\" class=\"dataframe\">\n  <thead>\n    <tr style=\"text-align: right;\">\n      <th></th>\n      <th>tripduration</th>\n      <th>starttime</th>\n      <th>stoptime</th>\n      <th>start station id</th>\n      <th>start station name</th>\n      <th>start station latitude</th>\n      <th>start station longitude</th>\n      <th>end station id</th>\n      <th>end station name</th>\n      <th>end station latitude</th>\n      <th>end station longitude</th>\n      <th>bikeid</th>\n      <th>usertype</th>\n      <th>birth year</th>\n      <th>gender</th>\n    </tr>\n  </thead>\n  <tbody>\n    <tr>\n      <th>0</th>\n      <td>1437</td>\n      <td>2020-04-01 01:06:20.6300</td>\n      <td>2020-04-01 01:30:17.9680</td>\n      <td>3678</td>\n      <td>Fairmount Ave</td>\n      <td>40.725726</td>\n      <td>-74.071959</td>\n      <td>3678</td>\n      <td>Fairmount Ave</td>\n      <td>40.725726</td>\n      <td>-74.071959</td>\n      <td>42314</td>\n      <td>Customer</td>\n      <td>2002</td>\n      <td>2</td>\n    </tr>\n    <tr>\n      <th>1</th>\n      <td>264</td>\n      <td>2020-04-01 05:02:42.0570</td>\n      <td>2020-04-01 05:07:06.1260</td>\n      <td>3207</td>\n      <td>Oakland Ave</td>\n      <td>40.737604</td>\n      <td>-74.052478</td>\n      <td>3195</td>\n      <td>Sip Ave</td>\n      <td>40.730897</td>\n      <td>-74.063913</td>\n      <td>42146</td>\n      <td>Subscriber</td>\n      <td>1963</td>\n      <td>2</td>\n    </tr>\n    <tr>\n      <th>2</th>\n      <td>254</td>\n      <td>2020-04-01 06:20:28.1190</td>\n      <td>2020-04-01 06:24:42.1380</td>\n      <td>3678</td>\n      <td>Fairmount Ave</td>\n      <td>40.725726</td>\n      <td>-74.071959</td>\n      <td>3195</td>\n      <td>Sip Ave</td>\n      <td>40.730897</td>\n      <td>-74.063913</td>\n      <td>42255</td>\n      <td>Subscriber</td>\n      <td>1981</td>\n      <td>1</td>\n    </tr>\n    <tr>\n      <th>3</th>\n      <td>429</td>\n      <td>2020-04-01 06:33:30.5170</td>\n      <td>2020-04-01 06:40:40.1990</td>\n      <td>3195</td>\n      <td>Sip Ave</td>\n      <td>40.730897</td>\n      <td>-74.063913</td>\n      <td>3679</td>\n      <td>Bergen Ave</td>\n      <td>40.722104</td>\n      <td>-74.071455</td>\n      <td>42529</td>\n      <td>Subscriber</td>\n      <td>1964</td>\n      <td>1</td>\n    </tr>\n    <tr>\n      <th>4</th>\n      <td>805</td>\n      <td>2020-04-01 06:38:32.9220</td>\n      <td>2020-04-01 06:51:58.2050</td>\n      <td>3193</td>\n      <td>Lincoln Park</td>\n      <td>40.724605</td>\n      <td>-74.078406</td>\n      <td>3195</td>\n      <td>Sip Ave</td>\n      <td>40.730897</td>\n      <td>-74.063913</td>\n      <td>42362</td>\n      <td>Subscriber</td>\n      <td>1965</td>\n      <td>1</td>\n    </tr>\n  </tbody>\n</table>\n</div>"
     },
     "metadata": {},
     "execution_count": 47
    }
   ],
   "source": [
    "df_three_2020 = pd.read_csv(\"202004_citibike_3.csv\")\n",
    "df_three_2020.head()"
   ]
  },
  {
   "cell_type": "code",
   "execution_count": 48,
   "metadata": {},
   "outputs": [],
   "source": [
    "frames = [df_one_2020, df_two_2020, df_three_2020]"
   ]
  },
  {
   "cell_type": "code",
   "execution_count": 49,
   "metadata": {
    "scrolled": true
   },
   "outputs": [
    {
     "output_type": "stream",
     "name": "stdout",
     "text": [
      "      tripduration                 starttime                  stoptime  \\\n0              841  2020-02-01 00:02:13.7650  2020-02-01 00:16:15.4720   \n1              206  2020-02-01 00:16:11.3850  2020-02-01 00:19:37.4460   \n2              859  2020-02-01 00:23:22.1090  2020-02-01 00:37:41.5060   \n3              693  2020-02-01 00:25:14.5170  2020-02-01 00:36:48.0280   \n4             1473  2020-02-01 00:32:30.5050  2020-02-01 00:57:04.3740   \n...            ...                       ...                       ...   \n9263           597  2020-04-30 22:18:40.4140  2020-04-30 22:28:38.1280   \n9264           311  2020-04-30 22:23:18.7780  2020-04-30 22:28:30.2980   \n9265           167  2020-04-30 22:34:51.8480  2020-04-30 22:37:39.6690   \n9266           520  2020-04-30 22:50:52.2380  2020-04-30 22:59:33.1620   \n9267          1043  2020-04-30 22:54:39.0840  2020-04-30 23:12:02.1790   \n\n      start station id  start station name  start station latitude  \\\n0                 3199        Newport Pkwy               40.728745   \n1                 3273        Manila & 1st               40.721651   \n2                 3185           City Hall               40.717733   \n3                 3185           City Hall               40.717733   \n4                 3192  Liberty Light Rail               40.711242   \n...                ...                 ...                     ...   \n9263              3678       Fairmount Ave               40.725726   \n9264              3195             Sip Ave               40.730897   \n9265              3640      Journal Square               40.733670   \n9266              3195             Sip Ave               40.730897   \n9267              3191            Union St               40.718211   \n\n      start station longitude  end station id         end station name  \\\n0                  -74.032108            3213           Van Vorst Park   \n1                  -74.042884            3639               Harborside   \n2                  -74.043845            3268           Lafayette Park   \n3                  -74.043845            3277  Communipaw & Berry Lane   \n4                  -74.055701            3639               Harborside   \n...                       ...             ...                      ...   \n9263               -74.071959            3279              Dixon Mills   \n9264               -74.063913            3679               Bergen Ave   \n9265               -74.062500            3206                  Hilltop   \n9266               -74.063913            3280              Astor Place   \n9267               -74.083639            3275           Columbus Drive   \n\n      end station latitude  end station longitude  bikeid    usertype  \\\n0                40.718489             -74.047727   42217  Subscriber   \n1                40.719252             -74.034234   42160  Subscriber   \n2                40.713464             -74.062859   42204    Customer   \n3                40.714358             -74.066611   42165  Subscriber   \n4                40.719252             -74.034234   26156    Customer   \n...                    ...                    ...     ...         ...   \n9263             40.721630             -74.049968   42240    Customer   \n9264             40.722104             -74.071455   42535  Subscriber   \n9265             40.731169             -74.057574   42615  Subscriber   \n9266             40.719282             -74.071262   42403  Subscriber   \n9267             40.718355             -74.038914   42255    Customer   \n\n      birth year  gender  \n0           1980       1  \n1           1990       1  \n2           1991       1  \n3           1987       1  \n4           1969       0  \n...          ...     ...  \n9263        1969       0  \n9264        1986       1  \n9265        1991       1  \n9266        1976       1  \n9267        1999       1  \n\n[49949 rows x 15 columns]\n"
     ]
    }
   ],
   "source": [
    "result_2020 = pd.concat(frames)\n",
    "print (result_2020)"
   ]
  },
  {
   "cell_type": "code",
   "execution_count": 50,
   "metadata": {},
   "outputs": [],
   "source": [
    "#save on to csv\n",
    "result_2020.to_csv('2020_citibike_results.csv')"
   ]
  },
  {
   "cell_type": "code",
   "execution_count": 51,
   "metadata": {},
   "outputs": [
    {
     "output_type": "execute_result",
     "data": {
      "text/plain": [
       "'2021 Data Set for Trip History'"
      ]
     },
     "metadata": {},
     "execution_count": 51
    }
   ],
   "source": [
    "{} \n",
    "'2021 Data Set for Trip History'"
   ]
  },
  {
   "cell_type": "code",
   "execution_count": 52,
   "metadata": {},
   "outputs": [
    {
     "output_type": "execute_result",
     "data": {
      "text/plain": [
       "   tripduration                 starttime                  stoptime  \\\n",
       "0           683  2021-02-01 00:08:57.2940  2021-02-01 00:20:21.2680   \n",
       "1          2850  2021-02-01 00:21:12.4910  2021-02-01 01:08:42.9560   \n",
       "2           545  2021-02-01 00:53:08.7500  2021-02-01 01:02:14.3890   \n",
       "3           473  2021-02-01 00:59:10.1110  2021-02-01 01:07:03.8480   \n",
       "4           748  2021-02-01 01:01:29.4990  2021-02-01 01:13:57.8940   \n",
       "\n",
       "   start station id start station name  start station latitude  \\\n",
       "0              3483      Montgomery St               40.719420   \n",
       "1              3203      Hamilton Park               40.727596   \n",
       "2              3220  5 Corners Library               40.734961   \n",
       "3              3220  5 Corners Library               40.734961   \n",
       "4              3210     Pershing Field               40.742677   \n",
       "\n",
       "   start station longitude  end station id end station name  \\\n",
       "0               -74.050990            3203    Hamilton Park   \n",
       "1               -74.044247            3275   Columbus Drive   \n",
       "2               -74.059503            3212  Christ Hospital   \n",
       "3               -74.059503            3210   Pershing Field   \n",
       "4               -74.051789            3269  Brunswick & 6th   \n",
       "\n",
       "   end station latitude  end station longitude  bikeid    usertype  \\\n",
       "0             40.727596             -74.044247   40517  Subscriber   \n",
       "1             40.718355             -74.038914   40517  Subscriber   \n",
       "2             40.734786             -74.050444   44907    Customer   \n",
       "3             40.742677             -74.051789   29727  Subscriber   \n",
       "4             40.726012             -74.050389   45550  Subscriber   \n",
       "\n",
       "   birth year  gender  \n",
       "0        1958       1  \n",
       "1        1958       1  \n",
       "2        1996       1  \n",
       "3        1987       2  \n",
       "4        1962       1  "
      ],
      "text/html": "<div>\n<style scoped>\n    .dataframe tbody tr th:only-of-type {\n        vertical-align: middle;\n    }\n\n    .dataframe tbody tr th {\n        vertical-align: top;\n    }\n\n    .dataframe thead th {\n        text-align: right;\n    }\n</style>\n<table border=\"1\" class=\"dataframe\">\n  <thead>\n    <tr style=\"text-align: right;\">\n      <th></th>\n      <th>tripduration</th>\n      <th>starttime</th>\n      <th>stoptime</th>\n      <th>start station id</th>\n      <th>start station name</th>\n      <th>start station latitude</th>\n      <th>start station longitude</th>\n      <th>end station id</th>\n      <th>end station name</th>\n      <th>end station latitude</th>\n      <th>end station longitude</th>\n      <th>bikeid</th>\n      <th>usertype</th>\n      <th>birth year</th>\n      <th>gender</th>\n    </tr>\n  </thead>\n  <tbody>\n    <tr>\n      <th>0</th>\n      <td>683</td>\n      <td>2021-02-01 00:08:57.2940</td>\n      <td>2021-02-01 00:20:21.2680</td>\n      <td>3483</td>\n      <td>Montgomery St</td>\n      <td>40.719420</td>\n      <td>-74.050990</td>\n      <td>3203</td>\n      <td>Hamilton Park</td>\n      <td>40.727596</td>\n      <td>-74.044247</td>\n      <td>40517</td>\n      <td>Subscriber</td>\n      <td>1958</td>\n      <td>1</td>\n    </tr>\n    <tr>\n      <th>1</th>\n      <td>2850</td>\n      <td>2021-02-01 00:21:12.4910</td>\n      <td>2021-02-01 01:08:42.9560</td>\n      <td>3203</td>\n      <td>Hamilton Park</td>\n      <td>40.727596</td>\n      <td>-74.044247</td>\n      <td>3275</td>\n      <td>Columbus Drive</td>\n      <td>40.718355</td>\n      <td>-74.038914</td>\n      <td>40517</td>\n      <td>Subscriber</td>\n      <td>1958</td>\n      <td>1</td>\n    </tr>\n    <tr>\n      <th>2</th>\n      <td>545</td>\n      <td>2021-02-01 00:53:08.7500</td>\n      <td>2021-02-01 01:02:14.3890</td>\n      <td>3220</td>\n      <td>5 Corners Library</td>\n      <td>40.734961</td>\n      <td>-74.059503</td>\n      <td>3212</td>\n      <td>Christ Hospital</td>\n      <td>40.734786</td>\n      <td>-74.050444</td>\n      <td>44907</td>\n      <td>Customer</td>\n      <td>1996</td>\n      <td>1</td>\n    </tr>\n    <tr>\n      <th>3</th>\n      <td>473</td>\n      <td>2021-02-01 00:59:10.1110</td>\n      <td>2021-02-01 01:07:03.8480</td>\n      <td>3220</td>\n      <td>5 Corners Library</td>\n      <td>40.734961</td>\n      <td>-74.059503</td>\n      <td>3210</td>\n      <td>Pershing Field</td>\n      <td>40.742677</td>\n      <td>-74.051789</td>\n      <td>29727</td>\n      <td>Subscriber</td>\n      <td>1987</td>\n      <td>2</td>\n    </tr>\n    <tr>\n      <th>4</th>\n      <td>748</td>\n      <td>2021-02-01 01:01:29.4990</td>\n      <td>2021-02-01 01:13:57.8940</td>\n      <td>3210</td>\n      <td>Pershing Field</td>\n      <td>40.742677</td>\n      <td>-74.051789</td>\n      <td>3269</td>\n      <td>Brunswick &amp; 6th</td>\n      <td>40.726012</td>\n      <td>-74.050389</td>\n      <td>45550</td>\n      <td>Subscriber</td>\n      <td>1962</td>\n      <td>1</td>\n    </tr>\n  </tbody>\n</table>\n</div>"
     },
     "metadata": {},
     "execution_count": 52
    }
   ],
   "source": [
    "df_one_2021 = pd.read_csv(\"Resources/202102_citibike_1.csv\")\n",
    "df_one_2021.head()"
   ]
  },
  {
   "cell_type": "code",
   "execution_count": 53,
   "metadata": {},
   "outputs": [
    {
     "output_type": "execute_result",
     "data": {
      "text/plain": [
       "   tripduration                 starttime                  stoptime  \\\n",
       "0           369  2021-03-01 00:07:46.3700  2021-03-01 00:13:55.6430   \n",
       "1           102  2021-03-01 00:13:25.3020  2021-03-01 00:15:07.7810   \n",
       "2          2036  2021-03-01 00:16:39.7080  2021-03-01 00:50:35.8980   \n",
       "3           366  2021-03-01 00:21:44.7390  2021-03-01 00:27:51.6070   \n",
       "4           718  2021-03-01 00:22:28.1290  2021-03-01 00:34:26.3650   \n",
       "\n",
       "   start station id start station name  start station latitude  \\\n",
       "0              3202       Newport PATH               40.727224   \n",
       "1              3276   Marin Light Rail               40.714584   \n",
       "2              3276   Marin Light Rail               40.714584   \n",
       "3              3639         Harborside               40.719252   \n",
       "4              3483      Montgomery St               40.719420   \n",
       "\n",
       "   start station longitude  end station id   end station name  \\\n",
       "0               -74.033759            3639         Harborside   \n",
       "1               -74.042817            3276   Marin Light Rail   \n",
       "2               -74.042817            3280        Astor Place   \n",
       "3               -74.034234            3205  JC Medical Center   \n",
       "4               -74.050990            3638      Washington St   \n",
       "\n",
       "   end station latitude  end station longitude  bikeid    usertype  \\\n",
       "0             40.719252             -74.034234   43798    Customer   \n",
       "1             40.714584             -74.042817   28583    Customer   \n",
       "2             40.719282             -74.071262   46627    Customer   \n",
       "3             40.716540             -74.049638   43798    Customer   \n",
       "4             40.724294             -74.035483   42277  Subscriber   \n",
       "\n",
       "   birth year  gender  \n",
       "0        1970       0  \n",
       "1        1970       0  \n",
       "2        1970       0  \n",
       "3        1970       0  \n",
       "4        1958       1  "
      ],
      "text/html": "<div>\n<style scoped>\n    .dataframe tbody tr th:only-of-type {\n        vertical-align: middle;\n    }\n\n    .dataframe tbody tr th {\n        vertical-align: top;\n    }\n\n    .dataframe thead th {\n        text-align: right;\n    }\n</style>\n<table border=\"1\" class=\"dataframe\">\n  <thead>\n    <tr style=\"text-align: right;\">\n      <th></th>\n      <th>tripduration</th>\n      <th>starttime</th>\n      <th>stoptime</th>\n      <th>start station id</th>\n      <th>start station name</th>\n      <th>start station latitude</th>\n      <th>start station longitude</th>\n      <th>end station id</th>\n      <th>end station name</th>\n      <th>end station latitude</th>\n      <th>end station longitude</th>\n      <th>bikeid</th>\n      <th>usertype</th>\n      <th>birth year</th>\n      <th>gender</th>\n    </tr>\n  </thead>\n  <tbody>\n    <tr>\n      <th>0</th>\n      <td>369</td>\n      <td>2021-03-01 00:07:46.3700</td>\n      <td>2021-03-01 00:13:55.6430</td>\n      <td>3202</td>\n      <td>Newport PATH</td>\n      <td>40.727224</td>\n      <td>-74.033759</td>\n      <td>3639</td>\n      <td>Harborside</td>\n      <td>40.719252</td>\n      <td>-74.034234</td>\n      <td>43798</td>\n      <td>Customer</td>\n      <td>1970</td>\n      <td>0</td>\n    </tr>\n    <tr>\n      <th>1</th>\n      <td>102</td>\n      <td>2021-03-01 00:13:25.3020</td>\n      <td>2021-03-01 00:15:07.7810</td>\n      <td>3276</td>\n      <td>Marin Light Rail</td>\n      <td>40.714584</td>\n      <td>-74.042817</td>\n      <td>3276</td>\n      <td>Marin Light Rail</td>\n      <td>40.714584</td>\n      <td>-74.042817</td>\n      <td>28583</td>\n      <td>Customer</td>\n      <td>1970</td>\n      <td>0</td>\n    </tr>\n    <tr>\n      <th>2</th>\n      <td>2036</td>\n      <td>2021-03-01 00:16:39.7080</td>\n      <td>2021-03-01 00:50:35.8980</td>\n      <td>3276</td>\n      <td>Marin Light Rail</td>\n      <td>40.714584</td>\n      <td>-74.042817</td>\n      <td>3280</td>\n      <td>Astor Place</td>\n      <td>40.719282</td>\n      <td>-74.071262</td>\n      <td>46627</td>\n      <td>Customer</td>\n      <td>1970</td>\n      <td>0</td>\n    </tr>\n    <tr>\n      <th>3</th>\n      <td>366</td>\n      <td>2021-03-01 00:21:44.7390</td>\n      <td>2021-03-01 00:27:51.6070</td>\n      <td>3639</td>\n      <td>Harborside</td>\n      <td>40.719252</td>\n      <td>-74.034234</td>\n      <td>3205</td>\n      <td>JC Medical Center</td>\n      <td>40.716540</td>\n      <td>-74.049638</td>\n      <td>43798</td>\n      <td>Customer</td>\n      <td>1970</td>\n      <td>0</td>\n    </tr>\n    <tr>\n      <th>4</th>\n      <td>718</td>\n      <td>2021-03-01 00:22:28.1290</td>\n      <td>2021-03-01 00:34:26.3650</td>\n      <td>3483</td>\n      <td>Montgomery St</td>\n      <td>40.719420</td>\n      <td>-74.050990</td>\n      <td>3638</td>\n      <td>Washington St</td>\n      <td>40.724294</td>\n      <td>-74.035483</td>\n      <td>42277</td>\n      <td>Subscriber</td>\n      <td>1958</td>\n      <td>1</td>\n    </tr>\n  </tbody>\n</table>\n</div>"
     },
     "metadata": {},
     "execution_count": 53
    }
   ],
   "source": [
    "df_two_2021=pd.read_csv(\"Resources/202103_citibike_2.csv\")\n",
    "df_two_2021.head()"
   ]
  },
  {
   "cell_type": "code",
   "execution_count": 54,
   "metadata": {},
   "outputs": [
    {
     "output_type": "execute_result",
     "data": {
      "text/plain": [
       "   tripduration                 starttime                  stoptime  \\\n",
       "0          1900  2021-04-01 00:07:25.4780  2021-04-01 00:39:06.0800   \n",
       "1           236  2021-04-01 00:08:13.9440  2021-04-01 00:12:10.1330   \n",
       "2          1047  2021-04-01 00:11:01.4250  2021-04-01 00:28:28.5300   \n",
       "3           491  2021-04-01 00:15:09.7010  2021-04-01 00:23:20.8380   \n",
       "4           193  2021-04-01 00:21:05.0750  2021-04-01 00:24:18.2960   \n",
       "\n",
       "   start station id     start station name  start station latitude  \\\n",
       "0              3225  Baldwin at Montgomery               40.723659   \n",
       "1              3186          Grove St PATH               40.719586   \n",
       "2              3276       Marin Light Rail               40.714584   \n",
       "3              3202           Newport PATH               40.727224   \n",
       "4              3195                Sip Ave               40.730897   \n",
       "\n",
       "   start station longitude  end station id            end station name  \\\n",
       "0               -74.064194            3225       Baldwin at Montgomery   \n",
       "1               -74.043117            3276            Marin Light Rail   \n",
       "2               -74.042817            3678               Fairmount Ave   \n",
       "3               -74.033759            3792  Columbus Dr at Exchange Pl   \n",
       "4               -74.063913            3194             McGinley Square   \n",
       "\n",
       "   end station latitude  end station longitude  bikeid  usertype  birth year  \\\n",
       "0             40.723659             -74.064194   45464  Customer        1970   \n",
       "1             40.714584             -74.042817   38392  Customer        1970   \n",
       "2             40.725726             -74.071959   54268  Customer        1970   \n",
       "3             40.716870             -74.032810   42307  Customer        1970   \n",
       "4             40.725340             -74.067622   44452  Customer        1970   \n",
       "\n",
       "   gender  \n",
       "0       0  \n",
       "1       0  \n",
       "2       0  \n",
       "3       0  \n",
       "4       0  "
      ],
      "text/html": "<div>\n<style scoped>\n    .dataframe tbody tr th:only-of-type {\n        vertical-align: middle;\n    }\n\n    .dataframe tbody tr th {\n        vertical-align: top;\n    }\n\n    .dataframe thead th {\n        text-align: right;\n    }\n</style>\n<table border=\"1\" class=\"dataframe\">\n  <thead>\n    <tr style=\"text-align: right;\">\n      <th></th>\n      <th>tripduration</th>\n      <th>starttime</th>\n      <th>stoptime</th>\n      <th>start station id</th>\n      <th>start station name</th>\n      <th>start station latitude</th>\n      <th>start station longitude</th>\n      <th>end station id</th>\n      <th>end station name</th>\n      <th>end station latitude</th>\n      <th>end station longitude</th>\n      <th>bikeid</th>\n      <th>usertype</th>\n      <th>birth year</th>\n      <th>gender</th>\n    </tr>\n  </thead>\n  <tbody>\n    <tr>\n      <th>0</th>\n      <td>1900</td>\n      <td>2021-04-01 00:07:25.4780</td>\n      <td>2021-04-01 00:39:06.0800</td>\n      <td>3225</td>\n      <td>Baldwin at Montgomery</td>\n      <td>40.723659</td>\n      <td>-74.064194</td>\n      <td>3225</td>\n      <td>Baldwin at Montgomery</td>\n      <td>40.723659</td>\n      <td>-74.064194</td>\n      <td>45464</td>\n      <td>Customer</td>\n      <td>1970</td>\n      <td>0</td>\n    </tr>\n    <tr>\n      <th>1</th>\n      <td>236</td>\n      <td>2021-04-01 00:08:13.9440</td>\n      <td>2021-04-01 00:12:10.1330</td>\n      <td>3186</td>\n      <td>Grove St PATH</td>\n      <td>40.719586</td>\n      <td>-74.043117</td>\n      <td>3276</td>\n      <td>Marin Light Rail</td>\n      <td>40.714584</td>\n      <td>-74.042817</td>\n      <td>38392</td>\n      <td>Customer</td>\n      <td>1970</td>\n      <td>0</td>\n    </tr>\n    <tr>\n      <th>2</th>\n      <td>1047</td>\n      <td>2021-04-01 00:11:01.4250</td>\n      <td>2021-04-01 00:28:28.5300</td>\n      <td>3276</td>\n      <td>Marin Light Rail</td>\n      <td>40.714584</td>\n      <td>-74.042817</td>\n      <td>3678</td>\n      <td>Fairmount Ave</td>\n      <td>40.725726</td>\n      <td>-74.071959</td>\n      <td>54268</td>\n      <td>Customer</td>\n      <td>1970</td>\n      <td>0</td>\n    </tr>\n    <tr>\n      <th>3</th>\n      <td>491</td>\n      <td>2021-04-01 00:15:09.7010</td>\n      <td>2021-04-01 00:23:20.8380</td>\n      <td>3202</td>\n      <td>Newport PATH</td>\n      <td>40.727224</td>\n      <td>-74.033759</td>\n      <td>3792</td>\n      <td>Columbus Dr at Exchange Pl</td>\n      <td>40.716870</td>\n      <td>-74.032810</td>\n      <td>42307</td>\n      <td>Customer</td>\n      <td>1970</td>\n      <td>0</td>\n    </tr>\n    <tr>\n      <th>4</th>\n      <td>193</td>\n      <td>2021-04-01 00:21:05.0750</td>\n      <td>2021-04-01 00:24:18.2960</td>\n      <td>3195</td>\n      <td>Sip Ave</td>\n      <td>40.730897</td>\n      <td>-74.063913</td>\n      <td>3194</td>\n      <td>McGinley Square</td>\n      <td>40.725340</td>\n      <td>-74.067622</td>\n      <td>44452</td>\n      <td>Customer</td>\n      <td>1970</td>\n      <td>0</td>\n    </tr>\n  </tbody>\n</table>\n</div>"
     },
     "metadata": {},
     "execution_count": 54
    }
   ],
   "source": [
    "df_three_2021=pd.read_csv(\"Resources/202104_citibike_3.csv\")\n",
    "df_three_2021.head()"
   ]
  },
  {
   "cell_type": "code",
   "execution_count": 55,
   "metadata": {},
   "outputs": [],
   "source": [
    "#creating a 2014 Dataframe with all the csv's\n",
    "frames_2021 = [df_one_2021, df_two_2021, df_three_2021]"
   ]
  },
  {
   "cell_type": "code",
   "execution_count": 56,
   "metadata": {
    "scrolled": false
   },
   "outputs": [
    {
     "output_type": "stream",
     "name": "stdout",
     "text": [
      "       tripduration                 starttime                  stoptime  \\\n0               683  2021-02-01 00:08:57.2940  2021-02-01 00:20:21.2680   \n1              2850  2021-02-01 00:21:12.4910  2021-02-01 01:08:42.9560   \n2               545  2021-02-01 00:53:08.7500  2021-02-01 01:02:14.3890   \n3               473  2021-02-01 00:59:10.1110  2021-02-01 01:07:03.8480   \n4               748  2021-02-01 01:01:29.4990  2021-02-01 01:13:57.8940   \n...             ...                       ...                       ...   \n23313          1700  2021-04-30 23:55:22.9900  2021-05-01 00:23:43.6660   \n23314          1958  2021-04-30 23:55:50.6830  2021-05-01 00:28:28.7000   \n23315           877  2021-04-30 23:57:33.1520  2021-05-01 00:12:11.0930   \n23316           173  2021-04-30 23:59:38.4630  2021-05-01 00:02:31.8160   \n23317           174  2021-04-30 23:59:43.2470  2021-05-01 00:02:37.5830   \n\n       start station id start station name  start station latitude  \\\n0                  3483      Montgomery St               40.719420   \n1                  3203      Hamilton Park               40.727596   \n2                  3220  5 Corners Library               40.734961   \n3                  3220  5 Corners Library               40.734961   \n4                  3210     Pershing Field               40.742677   \n...                 ...                ...                     ...   \n23313              3202       Newport PATH               40.727224   \n23314              3677       Glenwood Ave               40.727551   \n23315              3272       Jersey & 3rd               40.723332   \n23316              3276   Marin Light Rail               40.714584   \n23317              3186      Grove St PATH               40.719586   \n\n       start station longitude  end station id  end station name  \\\n0                   -74.050990            3203     Hamilton Park   \n1                   -74.044247            3275    Columbus Drive   \n2                   -74.059503            3212   Christ Hospital   \n3                   -74.059503            3210    Pershing Field   \n4                   -74.051789            3269   Brunswick & 6th   \n...                        ...             ...               ...   \n23313               -74.033759            3184       Paulus Hook   \n23314               -74.071061            3193      Lincoln Park   \n23315               -74.045953            3202      Newport PATH   \n23316               -74.042817            3276  Marin Light Rail   \n23317               -74.043117            3279       Dixon Mills   \n\n       end station latitude  end station longitude  bikeid    usertype  \\\n0                 40.727596             -74.044247   40517  Subscriber   \n1                 40.718355             -74.038914   40517  Subscriber   \n2                 40.734786             -74.050444   44907    Customer   \n3                 40.742677             -74.051789   29727  Subscriber   \n4                 40.726012             -74.050389   45550  Subscriber   \n...                     ...                    ...     ...         ...   \n23313             40.714145             -74.033552   39772    Customer   \n23314             40.724605             -74.078406   32575    Customer   \n23315             40.727224             -74.033759   42495    Customer   \n23316             40.714584             -74.042817   42470    Customer   \n23317             40.721630             -74.049968   39839    Customer   \n\n       birth year  gender  \n0            1958       1  \n1            1958       1  \n2            1996       1  \n3            1987       2  \n4            1962       1  \n...           ...     ...  \n23313        1970       0  \n23314        1970       0  \n23315        1970       0  \n23316        1970       0  \n23317        1970       0  \n\n[44886 rows x 15 columns]\n"
     ]
    }
   ],
   "source": [
    "result_2021 = pd.concat(frames_2021)\n",
    "print (result_2021)"
   ]
  },
  {
   "cell_type": "code",
   "execution_count": 57,
   "metadata": {},
   "outputs": [],
   "source": [
    "#the main 2021 data frame will be saved on to a csv\n",
    "# result_2021.to_csv('2020_citibike_results.csv')"
   ]
  },
  {
   "cell_type": "code",
   "execution_count": 58,
   "metadata": {},
   "outputs": [],
   "source": [
    "#save on to csv file for 2021\n",
    "# result_2020.to_csv('2021_citibike_results.csv')"
   ]
  },
  {
   "cell_type": "code",
   "execution_count": 59,
   "metadata": {},
   "outputs": [
    {
     "output_type": "execute_result",
     "data": {
      "text/plain": [
       "       tripduration                 starttime                  stoptime  \\\n",
       "0               841  2020-02-01 00:02:13.7650  2020-02-01 00:16:15.4720   \n",
       "1               206  2020-02-01 00:16:11.3850  2020-02-01 00:19:37.4460   \n",
       "2               859  2020-02-01 00:23:22.1090  2020-02-01 00:37:41.5060   \n",
       "3               693  2020-02-01 00:25:14.5170  2020-02-01 00:36:48.0280   \n",
       "4              1473  2020-02-01 00:32:30.5050  2020-02-01 00:57:04.3740   \n",
       "...             ...                       ...                       ...   \n",
       "23313          1700  2021-04-30 23:55:22.9900  2021-05-01 00:23:43.6660   \n",
       "23314          1958  2021-04-30 23:55:50.6830  2021-05-01 00:28:28.7000   \n",
       "23315           877  2021-04-30 23:57:33.1520  2021-05-01 00:12:11.0930   \n",
       "23316           173  2021-04-30 23:59:38.4630  2021-05-01 00:02:31.8160   \n",
       "23317           174  2021-04-30 23:59:43.2470  2021-05-01 00:02:37.5830   \n",
       "\n",
       "       start station id  start station name  start station latitude  \\\n",
       "0                  3199        Newport Pkwy               40.728745   \n",
       "1                  3273        Manila & 1st               40.721651   \n",
       "2                  3185           City Hall               40.717733   \n",
       "3                  3185           City Hall               40.717733   \n",
       "4                  3192  Liberty Light Rail               40.711242   \n",
       "...                 ...                 ...                     ...   \n",
       "23313              3202        Newport PATH               40.727224   \n",
       "23314              3677        Glenwood Ave               40.727551   \n",
       "23315              3272        Jersey & 3rd               40.723332   \n",
       "23316              3276    Marin Light Rail               40.714584   \n",
       "23317              3186       Grove St PATH               40.719586   \n",
       "\n",
       "       start station longitude  end station id         end station name  \\\n",
       "0                   -74.032108            3213           Van Vorst Park   \n",
       "1                   -74.042884            3639               Harborside   \n",
       "2                   -74.043845            3268           Lafayette Park   \n",
       "3                   -74.043845            3277  Communipaw & Berry Lane   \n",
       "4                   -74.055701            3639               Harborside   \n",
       "...                        ...             ...                      ...   \n",
       "23313               -74.033759            3184              Paulus Hook   \n",
       "23314               -74.071061            3193             Lincoln Park   \n",
       "23315               -74.045953            3202             Newport PATH   \n",
       "23316               -74.042817            3276         Marin Light Rail   \n",
       "23317               -74.043117            3279              Dixon Mills   \n",
       "\n",
       "       end station latitude  end station longitude  bikeid    usertype  \\\n",
       "0                 40.718489             -74.047727   42217  Subscriber   \n",
       "1                 40.719252             -74.034234   42160  Subscriber   \n",
       "2                 40.713464             -74.062859   42204    Customer   \n",
       "3                 40.714358             -74.066611   42165  Subscriber   \n",
       "4                 40.719252             -74.034234   26156    Customer   \n",
       "...                     ...                    ...     ...         ...   \n",
       "23313             40.714145             -74.033552   39772    Customer   \n",
       "23314             40.724605             -74.078406   32575    Customer   \n",
       "23315             40.727224             -74.033759   42495    Customer   \n",
       "23316             40.714584             -74.042817   42470    Customer   \n",
       "23317             40.721630             -74.049968   39839    Customer   \n",
       "\n",
       "       birth year  gender  \n",
       "0            1980       1  \n",
       "1            1990       1  \n",
       "2            1991       1  \n",
       "3            1987       1  \n",
       "4            1969       0  \n",
       "...           ...     ...  \n",
       "23313        1970       0  \n",
       "23314        1970       0  \n",
       "23315        1970       0  \n",
       "23316        1970       0  \n",
       "23317        1970       0  \n",
       "\n",
       "[94835 rows x 15 columns]"
      ],
      "text/html": "<div>\n<style scoped>\n    .dataframe tbody tr th:only-of-type {\n        vertical-align: middle;\n    }\n\n    .dataframe tbody tr th {\n        vertical-align: top;\n    }\n\n    .dataframe thead th {\n        text-align: right;\n    }\n</style>\n<table border=\"1\" class=\"dataframe\">\n  <thead>\n    <tr style=\"text-align: right;\">\n      <th></th>\n      <th>tripduration</th>\n      <th>starttime</th>\n      <th>stoptime</th>\n      <th>start station id</th>\n      <th>start station name</th>\n      <th>start station latitude</th>\n      <th>start station longitude</th>\n      <th>end station id</th>\n      <th>end station name</th>\n      <th>end station latitude</th>\n      <th>end station longitude</th>\n      <th>bikeid</th>\n      <th>usertype</th>\n      <th>birth year</th>\n      <th>gender</th>\n    </tr>\n  </thead>\n  <tbody>\n    <tr>\n      <th>0</th>\n      <td>841</td>\n      <td>2020-02-01 00:02:13.7650</td>\n      <td>2020-02-01 00:16:15.4720</td>\n      <td>3199</td>\n      <td>Newport Pkwy</td>\n      <td>40.728745</td>\n      <td>-74.032108</td>\n      <td>3213</td>\n      <td>Van Vorst Park</td>\n      <td>40.718489</td>\n      <td>-74.047727</td>\n      <td>42217</td>\n      <td>Subscriber</td>\n      <td>1980</td>\n      <td>1</td>\n    </tr>\n    <tr>\n      <th>1</th>\n      <td>206</td>\n      <td>2020-02-01 00:16:11.3850</td>\n      <td>2020-02-01 00:19:37.4460</td>\n      <td>3273</td>\n      <td>Manila &amp; 1st</td>\n      <td>40.721651</td>\n      <td>-74.042884</td>\n      <td>3639</td>\n      <td>Harborside</td>\n      <td>40.719252</td>\n      <td>-74.034234</td>\n      <td>42160</td>\n      <td>Subscriber</td>\n      <td>1990</td>\n      <td>1</td>\n    </tr>\n    <tr>\n      <th>2</th>\n      <td>859</td>\n      <td>2020-02-01 00:23:22.1090</td>\n      <td>2020-02-01 00:37:41.5060</td>\n      <td>3185</td>\n      <td>City Hall</td>\n      <td>40.717733</td>\n      <td>-74.043845</td>\n      <td>3268</td>\n      <td>Lafayette Park</td>\n      <td>40.713464</td>\n      <td>-74.062859</td>\n      <td>42204</td>\n      <td>Customer</td>\n      <td>1991</td>\n      <td>1</td>\n    </tr>\n    <tr>\n      <th>3</th>\n      <td>693</td>\n      <td>2020-02-01 00:25:14.5170</td>\n      <td>2020-02-01 00:36:48.0280</td>\n      <td>3185</td>\n      <td>City Hall</td>\n      <td>40.717733</td>\n      <td>-74.043845</td>\n      <td>3277</td>\n      <td>Communipaw &amp; Berry Lane</td>\n      <td>40.714358</td>\n      <td>-74.066611</td>\n      <td>42165</td>\n      <td>Subscriber</td>\n      <td>1987</td>\n      <td>1</td>\n    </tr>\n    <tr>\n      <th>4</th>\n      <td>1473</td>\n      <td>2020-02-01 00:32:30.5050</td>\n      <td>2020-02-01 00:57:04.3740</td>\n      <td>3192</td>\n      <td>Liberty Light Rail</td>\n      <td>40.711242</td>\n      <td>-74.055701</td>\n      <td>3639</td>\n      <td>Harborside</td>\n      <td>40.719252</td>\n      <td>-74.034234</td>\n      <td>26156</td>\n      <td>Customer</td>\n      <td>1969</td>\n      <td>0</td>\n    </tr>\n    <tr>\n      <th>...</th>\n      <td>...</td>\n      <td>...</td>\n      <td>...</td>\n      <td>...</td>\n      <td>...</td>\n      <td>...</td>\n      <td>...</td>\n      <td>...</td>\n      <td>...</td>\n      <td>...</td>\n      <td>...</td>\n      <td>...</td>\n      <td>...</td>\n      <td>...</td>\n      <td>...</td>\n    </tr>\n    <tr>\n      <th>23313</th>\n      <td>1700</td>\n      <td>2021-04-30 23:55:22.9900</td>\n      <td>2021-05-01 00:23:43.6660</td>\n      <td>3202</td>\n      <td>Newport PATH</td>\n      <td>40.727224</td>\n      <td>-74.033759</td>\n      <td>3184</td>\n      <td>Paulus Hook</td>\n      <td>40.714145</td>\n      <td>-74.033552</td>\n      <td>39772</td>\n      <td>Customer</td>\n      <td>1970</td>\n      <td>0</td>\n    </tr>\n    <tr>\n      <th>23314</th>\n      <td>1958</td>\n      <td>2021-04-30 23:55:50.6830</td>\n      <td>2021-05-01 00:28:28.7000</td>\n      <td>3677</td>\n      <td>Glenwood Ave</td>\n      <td>40.727551</td>\n      <td>-74.071061</td>\n      <td>3193</td>\n      <td>Lincoln Park</td>\n      <td>40.724605</td>\n      <td>-74.078406</td>\n      <td>32575</td>\n      <td>Customer</td>\n      <td>1970</td>\n      <td>0</td>\n    </tr>\n    <tr>\n      <th>23315</th>\n      <td>877</td>\n      <td>2021-04-30 23:57:33.1520</td>\n      <td>2021-05-01 00:12:11.0930</td>\n      <td>3272</td>\n      <td>Jersey &amp; 3rd</td>\n      <td>40.723332</td>\n      <td>-74.045953</td>\n      <td>3202</td>\n      <td>Newport PATH</td>\n      <td>40.727224</td>\n      <td>-74.033759</td>\n      <td>42495</td>\n      <td>Customer</td>\n      <td>1970</td>\n      <td>0</td>\n    </tr>\n    <tr>\n      <th>23316</th>\n      <td>173</td>\n      <td>2021-04-30 23:59:38.4630</td>\n      <td>2021-05-01 00:02:31.8160</td>\n      <td>3276</td>\n      <td>Marin Light Rail</td>\n      <td>40.714584</td>\n      <td>-74.042817</td>\n      <td>3276</td>\n      <td>Marin Light Rail</td>\n      <td>40.714584</td>\n      <td>-74.042817</td>\n      <td>42470</td>\n      <td>Customer</td>\n      <td>1970</td>\n      <td>0</td>\n    </tr>\n    <tr>\n      <th>23317</th>\n      <td>174</td>\n      <td>2021-04-30 23:59:43.2470</td>\n      <td>2021-05-01 00:02:37.5830</td>\n      <td>3186</td>\n      <td>Grove St PATH</td>\n      <td>40.719586</td>\n      <td>-74.043117</td>\n      <td>3279</td>\n      <td>Dixon Mills</td>\n      <td>40.721630</td>\n      <td>-74.049968</td>\n      <td>39839</td>\n      <td>Customer</td>\n      <td>1970</td>\n      <td>0</td>\n    </tr>\n  </tbody>\n</table>\n<p>94835 rows × 15 columns</p>\n</div>"
     },
     "metadata": {},
     "execution_count": 59
    }
   ],
   "source": [
    "citi_combined = pd.concat([result_2020, result_2021])\n",
    "citi_combined"
   ]
  },
  {
   "cell_type": "code",
   "execution_count": 60,
   "metadata": {},
   "outputs": [
    {
     "output_type": "execute_result",
     "data": {
      "text/plain": [
       "bikeid\n",
       "14578     3\n",
       "15363    16\n",
       "15387    15\n",
       "16584    14\n",
       "17273    14\n",
       "         ..\n",
       "42625    76\n",
       "42629    90\n",
       "42634    79\n",
       "42635    87\n",
       "42636    60\n",
       "Name: start station id, Length: 795, dtype: int64"
      ]
     },
     "metadata": {},
     "execution_count": 60
    }
   ],
   "source": [
    "bike_id_count_2020 = result_2020.groupby('bikeid').count()['start station id']\n",
    "bike_id_count_2020"
   ]
  },
  {
   "cell_type": "code",
   "execution_count": 61,
   "metadata": {},
   "outputs": [
    {
     "output_type": "execute_result",
     "data": {
      "text/plain": [
       "bikeid\n",
       "15377     45\n",
       "15585     19\n",
       "15730     75\n",
       "16065      7\n",
       "16159     16\n",
       "        ... \n",
       "54268    129\n",
       "54269    106\n",
       "54270     13\n",
       "54358    123\n",
       "55298      9\n",
       "Name: start station id, Length: 688, dtype: int64"
      ]
     },
     "metadata": {},
     "execution_count": 61
    }
   ],
   "source": [
    "bike_id_count_2021 = result_2021.groupby('bikeid').count()['start station id']\n",
    "bike_id_count_2021"
   ]
  },
  {
   "cell_type": "code",
   "execution_count": 62,
   "metadata": {},
   "outputs": [
    {
     "output_type": "execute_result",
     "data": {
      "text/plain": [
       "        start station id_2020  start station id_2021\n",
       "bikeid                                              \n",
       "14578                     3.0                    NaN\n",
       "15363                    16.0                    NaN\n",
       "15377                     NaN                   45.0\n",
       "15387                    15.0                    NaN\n",
       "15585                     NaN                   19.0\n",
       "...                       ...                    ...\n",
       "54268                     NaN                  129.0\n",
       "54269                     NaN                  106.0\n",
       "54270                     NaN                   13.0\n",
       "54358                     NaN                  123.0\n",
       "55298                     NaN                    9.0\n",
       "\n",
       "[1379 rows x 2 columns]"
      ],
      "text/html": "<div>\n<style scoped>\n    .dataframe tbody tr th:only-of-type {\n        vertical-align: middle;\n    }\n\n    .dataframe tbody tr th {\n        vertical-align: top;\n    }\n\n    .dataframe thead th {\n        text-align: right;\n    }\n</style>\n<table border=\"1\" class=\"dataframe\">\n  <thead>\n    <tr style=\"text-align: right;\">\n      <th></th>\n      <th>start station id_2020</th>\n      <th>start station id_2021</th>\n    </tr>\n    <tr>\n      <th>bikeid</th>\n      <th></th>\n      <th></th>\n    </tr>\n  </thead>\n  <tbody>\n    <tr>\n      <th>14578</th>\n      <td>3.0</td>\n      <td>NaN</td>\n    </tr>\n    <tr>\n      <th>15363</th>\n      <td>16.0</td>\n      <td>NaN</td>\n    </tr>\n    <tr>\n      <th>15377</th>\n      <td>NaN</td>\n      <td>45.0</td>\n    </tr>\n    <tr>\n      <th>15387</th>\n      <td>15.0</td>\n      <td>NaN</td>\n    </tr>\n    <tr>\n      <th>15585</th>\n      <td>NaN</td>\n      <td>19.0</td>\n    </tr>\n    <tr>\n      <th>...</th>\n      <td>...</td>\n      <td>...</td>\n    </tr>\n    <tr>\n      <th>54268</th>\n      <td>NaN</td>\n      <td>129.0</td>\n    </tr>\n    <tr>\n      <th>54269</th>\n      <td>NaN</td>\n      <td>106.0</td>\n    </tr>\n    <tr>\n      <th>54270</th>\n      <td>NaN</td>\n      <td>13.0</td>\n    </tr>\n    <tr>\n      <th>54358</th>\n      <td>NaN</td>\n      <td>123.0</td>\n    </tr>\n    <tr>\n      <th>55298</th>\n      <td>NaN</td>\n      <td>9.0</td>\n    </tr>\n  </tbody>\n</table>\n<p>1379 rows × 2 columns</p>\n</div>"
     },
     "metadata": {},
     "execution_count": 62
    }
   ],
   "source": [
    "bike_id_count_joined = pd.DataFrame(bike_id_count_2020).join(\n",
    "    bike_id_count_2021,\n",
    "    how='outer',\n",
    "    lsuffix='_2020',\n",
    "    rsuffix='_2021'\n",
    ")\n",
    "bike_id_count_joined"
   ]
  },
  {
   "cell_type": "code",
   "execution_count": 63,
   "metadata": {},
   "outputs": [
    {
     "output_type": "execute_result",
     "data": {
      "text/plain": [
       "        start station id_2020  start station id_2021\n",
       "bikeid                                              \n",
       "14578                     3.0                    0.0\n",
       "15363                    16.0                    0.0\n",
       "15377                     0.0                   45.0\n",
       "15387                    15.0                    0.0\n",
       "15585                     0.0                   19.0\n",
       "...                       ...                    ...\n",
       "54268                     0.0                  129.0\n",
       "54269                     0.0                  106.0\n",
       "54270                     0.0                   13.0\n",
       "54358                     0.0                  123.0\n",
       "55298                     0.0                    9.0\n",
       "\n",
       "[1379 rows x 2 columns]"
      ],
      "text/html": "<div>\n<style scoped>\n    .dataframe tbody tr th:only-of-type {\n        vertical-align: middle;\n    }\n\n    .dataframe tbody tr th {\n        vertical-align: top;\n    }\n\n    .dataframe thead th {\n        text-align: right;\n    }\n</style>\n<table border=\"1\" class=\"dataframe\">\n  <thead>\n    <tr style=\"text-align: right;\">\n      <th></th>\n      <th>start station id_2020</th>\n      <th>start station id_2021</th>\n    </tr>\n    <tr>\n      <th>bikeid</th>\n      <th></th>\n      <th></th>\n    </tr>\n  </thead>\n  <tbody>\n    <tr>\n      <th>14578</th>\n      <td>3.0</td>\n      <td>0.0</td>\n    </tr>\n    <tr>\n      <th>15363</th>\n      <td>16.0</td>\n      <td>0.0</td>\n    </tr>\n    <tr>\n      <th>15377</th>\n      <td>0.0</td>\n      <td>45.0</td>\n    </tr>\n    <tr>\n      <th>15387</th>\n      <td>15.0</td>\n      <td>0.0</td>\n    </tr>\n    <tr>\n      <th>15585</th>\n      <td>0.0</td>\n      <td>19.0</td>\n    </tr>\n    <tr>\n      <th>...</th>\n      <td>...</td>\n      <td>...</td>\n    </tr>\n    <tr>\n      <th>54268</th>\n      <td>0.0</td>\n      <td>129.0</td>\n    </tr>\n    <tr>\n      <th>54269</th>\n      <td>0.0</td>\n      <td>106.0</td>\n    </tr>\n    <tr>\n      <th>54270</th>\n      <td>0.0</td>\n      <td>13.0</td>\n    </tr>\n    <tr>\n      <th>54358</th>\n      <td>0.0</td>\n      <td>123.0</td>\n    </tr>\n    <tr>\n      <th>55298</th>\n      <td>0.0</td>\n      <td>9.0</td>\n    </tr>\n  </tbody>\n</table>\n<p>1379 rows × 2 columns</p>\n</div>"
     },
     "metadata": {},
     "execution_count": 63
    }
   ],
   "source": [
    "from numpy import isnan\n",
    "\n",
    "where_are_nans = isnan(bike_id_count_joined)\n",
    "bike_id_count_joined[where_are_nans] = 0\n",
    "bike_id_count_joined"
   ]
  },
  {
   "cell_type": "code",
   "execution_count": 64,
   "metadata": {},
   "outputs": [
    {
     "output_type": "execute_result",
     "data": {
      "text/plain": [
       "        start station id_2020  start station id_2021  bike_id_count_change\n",
       "bikeid                                                                    \n",
       "14578                     3.0                    0.0                  -1.0\n",
       "15363                    16.0                    0.0                  -1.0\n",
       "15377                     0.0                   45.0                   inf\n",
       "15387                    15.0                    0.0                  -1.0\n",
       "15585                     0.0                   19.0                   inf\n",
       "...                       ...                    ...                   ...\n",
       "54268                     0.0                  129.0                   inf\n",
       "54269                     0.0                  106.0                   inf\n",
       "54270                     0.0                   13.0                   inf\n",
       "54358                     0.0                  123.0                   inf\n",
       "55298                     0.0                    9.0                   inf\n",
       "\n",
       "[1379 rows x 3 columns]"
      ],
      "text/html": "<div>\n<style scoped>\n    .dataframe tbody tr th:only-of-type {\n        vertical-align: middle;\n    }\n\n    .dataframe tbody tr th {\n        vertical-align: top;\n    }\n\n    .dataframe thead th {\n        text-align: right;\n    }\n</style>\n<table border=\"1\" class=\"dataframe\">\n  <thead>\n    <tr style=\"text-align: right;\">\n      <th></th>\n      <th>start station id_2020</th>\n      <th>start station id_2021</th>\n      <th>bike_id_count_change</th>\n    </tr>\n    <tr>\n      <th>bikeid</th>\n      <th></th>\n      <th></th>\n      <th></th>\n    </tr>\n  </thead>\n  <tbody>\n    <tr>\n      <th>14578</th>\n      <td>3.0</td>\n      <td>0.0</td>\n      <td>-1.0</td>\n    </tr>\n    <tr>\n      <th>15363</th>\n      <td>16.0</td>\n      <td>0.0</td>\n      <td>-1.0</td>\n    </tr>\n    <tr>\n      <th>15377</th>\n      <td>0.0</td>\n      <td>45.0</td>\n      <td>inf</td>\n    </tr>\n    <tr>\n      <th>15387</th>\n      <td>15.0</td>\n      <td>0.0</td>\n      <td>-1.0</td>\n    </tr>\n    <tr>\n      <th>15585</th>\n      <td>0.0</td>\n      <td>19.0</td>\n      <td>inf</td>\n    </tr>\n    <tr>\n      <th>...</th>\n      <td>...</td>\n      <td>...</td>\n      <td>...</td>\n    </tr>\n    <tr>\n      <th>54268</th>\n      <td>0.0</td>\n      <td>129.0</td>\n      <td>inf</td>\n    </tr>\n    <tr>\n      <th>54269</th>\n      <td>0.0</td>\n      <td>106.0</td>\n      <td>inf</td>\n    </tr>\n    <tr>\n      <th>54270</th>\n      <td>0.0</td>\n      <td>13.0</td>\n      <td>inf</td>\n    </tr>\n    <tr>\n      <th>54358</th>\n      <td>0.0</td>\n      <td>123.0</td>\n      <td>inf</td>\n    </tr>\n    <tr>\n      <th>55298</th>\n      <td>0.0</td>\n      <td>9.0</td>\n      <td>inf</td>\n    </tr>\n  </tbody>\n</table>\n<p>1379 rows × 3 columns</p>\n</div>"
     },
     "metadata": {},
     "execution_count": 64
    }
   ],
   "source": [
    "bike_id_count_joined['bike_id_count_change'] = \\\n",
    "    (bike_id_count_joined['start station id_2021'] - \\\n",
    "    bike_id_count_joined['start station id_2020']) / \\\n",
    "    bike_id_count_joined['start station id_2020']\n",
    "bike_id_count_joined"
   ]
  },
  {
   "cell_type": "code",
   "execution_count": 65,
   "metadata": {},
   "outputs": [
    {
     "output_type": "stream",
     "name": "stderr",
     "text": [
      "/Users/amusaadebayo/opt/anaconda3/envs/PythonAdv/lib/python3.6/site-packages/ipykernel_launcher.py:5: UserWarning: Boolean Series key will be reindexed to match DataFrame index.\n  \"\"\"\n"
     ]
    },
    {
     "output_type": "execute_result",
     "data": {
      "text/plain": [
       "        start station id_2020  start station id_2021  bike_id_count_change\n",
       "bikeid                                                                    \n",
       "18220                     2.0                   71.0             34.500000\n",
       "27705                    17.0                   64.0              2.764706\n",
       "27808                    17.0                   29.0              0.705882\n",
       "32971                     2.0                   67.0             32.500000\n",
       "34038                    21.0                   76.0              2.619048\n",
       "...                       ...                    ...                   ...\n",
       "42596                   104.0                  127.0              0.221154\n",
       "42601                    99.0                  120.0              0.212121\n",
       "42614                    93.0                  123.0              0.322581\n",
       "42625                    76.0                  101.0              0.328947\n",
       "42635                    87.0                   58.0             -0.333333\n",
       "\n",
       "[104 rows x 3 columns]"
      ],
      "text/html": "<div>\n<style scoped>\n    .dataframe tbody tr th:only-of-type {\n        vertical-align: middle;\n    }\n\n    .dataframe tbody tr th {\n        vertical-align: top;\n    }\n\n    .dataframe thead th {\n        text-align: right;\n    }\n</style>\n<table border=\"1\" class=\"dataframe\">\n  <thead>\n    <tr style=\"text-align: right;\">\n      <th></th>\n      <th>start station id_2020</th>\n      <th>start station id_2021</th>\n      <th>bike_id_count_change</th>\n    </tr>\n    <tr>\n      <th>bikeid</th>\n      <th></th>\n      <th></th>\n      <th></th>\n    </tr>\n  </thead>\n  <tbody>\n    <tr>\n      <th>18220</th>\n      <td>2.0</td>\n      <td>71.0</td>\n      <td>34.500000</td>\n    </tr>\n    <tr>\n      <th>27705</th>\n      <td>17.0</td>\n      <td>64.0</td>\n      <td>2.764706</td>\n    </tr>\n    <tr>\n      <th>27808</th>\n      <td>17.0</td>\n      <td>29.0</td>\n      <td>0.705882</td>\n    </tr>\n    <tr>\n      <th>32971</th>\n      <td>2.0</td>\n      <td>67.0</td>\n      <td>32.500000</td>\n    </tr>\n    <tr>\n      <th>34038</th>\n      <td>21.0</td>\n      <td>76.0</td>\n      <td>2.619048</td>\n    </tr>\n    <tr>\n      <th>...</th>\n      <td>...</td>\n      <td>...</td>\n      <td>...</td>\n    </tr>\n    <tr>\n      <th>42596</th>\n      <td>104.0</td>\n      <td>127.0</td>\n      <td>0.221154</td>\n    </tr>\n    <tr>\n      <th>42601</th>\n      <td>99.0</td>\n      <td>120.0</td>\n      <td>0.212121</td>\n    </tr>\n    <tr>\n      <th>42614</th>\n      <td>93.0</td>\n      <td>123.0</td>\n      <td>0.322581</td>\n    </tr>\n    <tr>\n      <th>42625</th>\n      <td>76.0</td>\n      <td>101.0</td>\n      <td>0.328947</td>\n    </tr>\n    <tr>\n      <th>42635</th>\n      <td>87.0</td>\n      <td>58.0</td>\n      <td>-0.333333</td>\n    </tr>\n  </tbody>\n</table>\n<p>104 rows × 3 columns</p>\n</div>"
     },
     "metadata": {},
     "execution_count": 65
    }
   ],
   "source": [
    "bike_id_count_joined_filtered = bike_id_count_joined[\n",
    "    bike_id_count_joined['start station id_2020'] != 0\n",
    "]\n",
    "bike_id_count_joined_filtered = bike_id_count_joined_filtered[\n",
    "    bike_id_count_joined['start station id_2021'] != 0\n",
    "]\n",
    "bike_id_count_joined_filtered"
   ]
  },
  {
   "cell_type": "code",
   "execution_count": 66,
   "metadata": {},
   "outputs": [],
   "source": [
    "df = bike_id_count_joined_filtered.to_csv('citibikeId_results.csv')"
   ]
  },
  {
   "cell_type": "code",
   "execution_count": 67,
   "metadata": {},
   "outputs": [],
   "source": [
    "# bike_id_count_joined_filtered.to_csv('')\n",
    "df"
   ]
  },
  {
   "cell_type": "code",
   "execution_count": 70,
   "metadata": {},
   "outputs": [
    {
     "output_type": "stream",
     "name": "stdout",
     "text": [
      "df\n"
     ]
    }
   ],
   "source": [
    "print ('df')"
   ]
  },
  {
   "cell_type": "code",
   "execution_count": null,
   "metadata": {},
   "outputs": [],
   "source": []
  }
 ],
 "metadata": {
  "kernelspec": {
   "name": "python3613jvsc74a57bd02e86bb4a8b20d417404c7e36f8d5851dc01c09194186643532440d5ea91d6901",
   "display_name": "Python 3.6.13 64-bit ('PythonAdv': conda)"
  },
  "language_info": {
   "codemirror_mode": {
    "name": "ipython",
    "version": 3
   },
   "file_extension": ".py",
   "mimetype": "text/x-python",
   "name": "python",
   "nbconvert_exporter": "python",
   "pygments_lexer": "ipython3",
   "version": "3.6.13"
  },
  "metadata": {
   "interpreter": {
    "hash": "b8bdd4e700647ba2b08c59e5df8b7da1dcf50a218bcd4c1bcd9b3dc92e8788e5"
   }
  }
 },
 "nbformat": 4,
 "nbformat_minor": 2
}