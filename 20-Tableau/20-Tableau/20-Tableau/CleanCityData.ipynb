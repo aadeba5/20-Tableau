{
 "cells": [
  {
   "cell_type": "code",
   "execution_count": 3,
   "metadata": {},
   "outputs": [],
   "source": [
    "# Dependencies\n",
    "import pandas as pd"
   ]
  },
  {
   "cell_type": "code",
   "execution_count": 4,
   "metadata": {
    "inputHidden": false,
    "outputHidden": false
   },
   "outputs": [],
   "source": [
    "# Name of the CSV file\n",
    "file = 'Resources/citibike_tripdata1.csv'\n"
   ]
  },
  {
   "cell_type": "code",
   "execution_count": 5,
   "metadata": {
    "inputHidden": false,
    "outputHidden": false
   },
   "outputs": [],
   "source": [
    "# The correct encoding must be used to read the CSV in pandas\n",
    "df = pd.read_csv(file, encoding=\"ISO-8859-1\")"
   ]
  },
  {
   "cell_type": "code",
   "execution_count": 6,
   "metadata": {
    "inputHidden": false,
    "outputHidden": false
   },
   "outputs": [
    {
     "output_type": "execute_result",
     "data": {
      "text/plain": [
       "                                                                                                                                                                                                                                                         JC-202103-citibike-tripdata\n",
       "tripduration starttime                stoptime                 start station id start station name start station latitude start station longitude end station id end station name  end station latitude end station longitude bikeid usertype birth year                      gender\n",
       "369          2021-03-01 00:07:46.3700 2021-03-01 00:13:55.6430 3202             Newport PATH       40.7272235             -74.0337589             3639           Harborside        40.7192517           -74.034234            43798  Customer 1970                                 0\n",
       "102          2021-03-01 00:13:25.3020 2021-03-01 00:15:07.7810 3276             Marin Light Rail   40.71458403535890      -74.04281705617910      3276           Marin Light Rail  40.71458403535890    -74.04281705617910    28583  Customer 1970                                 0\n",
       "2036         2021-03-01 00:16:39.7080 2021-03-01 00:50:35.8980 3276             Marin Light Rail   40.71458403535890      -74.04281705617910      3280           Astor Place       40.71928220070700    -74.07126188278200    46627  Customer 1970                                 0\n",
       "366          2021-03-01 00:21:44.7390 2021-03-01 00:27:51.6070 3639             Harborside         40.7192517             -74.034234              3205           JC Medical Center 40.71653978099190    -74.0496379137039     43798  Customer 1970                                 0"
      ],
      "text/html": "<div>\n<style scoped>\n    .dataframe tbody tr th:only-of-type {\n        vertical-align: middle;\n    }\n\n    .dataframe tbody tr th {\n        vertical-align: top;\n    }\n\n    .dataframe thead th {\n        text-align: right;\n    }\n</style>\n<table border=\"1\" class=\"dataframe\">\n  <thead>\n    <tr style=\"text-align: right;\">\n      <th></th>\n      <th></th>\n      <th></th>\n      <th></th>\n      <th></th>\n      <th></th>\n      <th></th>\n      <th></th>\n      <th></th>\n      <th></th>\n      <th></th>\n      <th></th>\n      <th></th>\n      <th></th>\n      <th>JC-202103-citibike-tripdata</th>\n    </tr>\n  </thead>\n  <tbody>\n    <tr>\n      <th>tripduration</th>\n      <th>starttime</th>\n      <th>stoptime</th>\n      <th>start station id</th>\n      <th>start station name</th>\n      <th>start station latitude</th>\n      <th>start station longitude</th>\n      <th>end station id</th>\n      <th>end station name</th>\n      <th>end station latitude</th>\n      <th>end station longitude</th>\n      <th>bikeid</th>\n      <th>usertype</th>\n      <th>birth year</th>\n      <td>gender</td>\n    </tr>\n    <tr>\n      <th>369</th>\n      <th>2021-03-01 00:07:46.3700</th>\n      <th>2021-03-01 00:13:55.6430</th>\n      <th>3202</th>\n      <th>Newport PATH</th>\n      <th>40.7272235</th>\n      <th>-74.0337589</th>\n      <th>3639</th>\n      <th>Harborside</th>\n      <th>40.7192517</th>\n      <th>-74.034234</th>\n      <th>43798</th>\n      <th>Customer</th>\n      <th>1970</th>\n      <td>0</td>\n    </tr>\n    <tr>\n      <th>102</th>\n      <th>2021-03-01 00:13:25.3020</th>\n      <th>2021-03-01 00:15:07.7810</th>\n      <th>3276</th>\n      <th>Marin Light Rail</th>\n      <th>40.71458403535890</th>\n      <th>-74.04281705617910</th>\n      <th>3276</th>\n      <th>Marin Light Rail</th>\n      <th>40.71458403535890</th>\n      <th>-74.04281705617910</th>\n      <th>28583</th>\n      <th>Customer</th>\n      <th>1970</th>\n      <td>0</td>\n    </tr>\n    <tr>\n      <th>2036</th>\n      <th>2021-03-01 00:16:39.7080</th>\n      <th>2021-03-01 00:50:35.8980</th>\n      <th>3276</th>\n      <th>Marin Light Rail</th>\n      <th>40.71458403535890</th>\n      <th>-74.04281705617910</th>\n      <th>3280</th>\n      <th>Astor Place</th>\n      <th>40.71928220070700</th>\n      <th>-74.07126188278200</th>\n      <th>46627</th>\n      <th>Customer</th>\n      <th>1970</th>\n      <td>0</td>\n    </tr>\n    <tr>\n      <th>366</th>\n      <th>2021-03-01 00:21:44.7390</th>\n      <th>2021-03-01 00:27:51.6070</th>\n      <th>3639</th>\n      <th>Harborside</th>\n      <th>40.7192517</th>\n      <th>-74.034234</th>\n      <th>3205</th>\n      <th>JC Medical Center</th>\n      <th>40.71653978099190</th>\n      <th>-74.0496379137039</th>\n      <th>43798</th>\n      <th>Customer</th>\n      <th>1970</th>\n      <td>0</td>\n    </tr>\n  </tbody>\n</table>\n</div>"
     },
     "metadata": {},
     "execution_count": 6
    }
   ],
   "source": [
    "# Preview of the DataFrame\n",
    "df.head()"
   ]
  },
  {
   "cell_type": "code",
   "execution_count": 41,
   "metadata": {},
   "outputs": [
    {
     "output_type": "execute_result",
     "data": {
      "text/plain": [
       "'2021-05-18T20:50:29'"
      ]
     },
     "metadata": {},
     "execution_count": 41
    }
   ],
   "source": [
    "import datetime\n",
    "datetime.datetime.fromtimestamp(1621389029).isoformat()"
   ]
  },
  {
   "cell_type": "code",
   "execution_count": 42,
   "metadata": {},
   "outputs": [],
   "source": [
    "# import time\n",
    "# int(time.mktime(time.strptime(\"2021-05-19 03:50:29\"))) - time.timezone"
   ]
  },
  {
   "cell_type": "code",
   "execution_count": 43,
   "metadata": {
    "inputHidden": false,
    "outputHidden": false
   },
   "outputs": [],
   "source": [
    "# Delete extraneous column\n",
    "# del df['FIELD8']\n",
    "# df.head()"
   ]
  },
  {
   "cell_type": "code",
   "execution_count": 44,
   "metadata": {
    "inputHidden": false,
    "outputHidden": false
   },
   "outputs": [
    {
     "output_type": "execute_result",
     "data": {
      "text/plain": [
       "JC-202103-citibike-tripdata    16844\n",
       "dtype: int64"
      ]
     },
     "metadata": {},
     "execution_count": 44
    }
   ],
   "source": [
    "# Identify incomplete rows\n",
    "df.count()"
   ]
  },
  {
   "cell_type": "code",
   "execution_count": 45,
   "metadata": {
    "inputHidden": false,
    "outputHidden": false
   },
   "outputs": [],
   "source": [
    "# Drop all rows with missing information\n",
    "df = df.dropna(how='any')"
   ]
  },
  {
   "cell_type": "code",
   "execution_count": 46,
   "metadata": {
    "inputHidden": false,
    "outputHidden": false
   },
   "outputs": [
    {
     "output_type": "execute_result",
     "data": {
      "text/plain": [
       "JC-202103-citibike-tripdata    16844\n",
       "dtype: int64"
      ]
     },
     "metadata": {},
     "execution_count": 46
    }
   ],
   "source": [
    "# Verify dropped rows\n",
    "df.count()"
   ]
  },
  {
   "cell_type": "code",
   "execution_count": 47,
   "metadata": {
    "scrolled": true
   },
   "outputs": [
    {
     "output_type": "execute_result",
     "data": {
      "text/plain": [
       "                                                                                                                                                                                                                                                             JC-202103-citibike-tripdata\n",
       "tripduration starttime                stoptime                 start station id start station name    start station latitude start station longitude end station id end station name   end station latitude end station longitude bikeid usertype birth year                      gender\n",
       "369          2021-03-01 00:07:46.3700 2021-03-01 00:13:55.6430 3202             Newport PATH          40.7272235             -74.0337589             3639           Harborside         40.7192517           -74.034234            43798  Customer 1970                                 0\n",
       "102          2021-03-01 00:13:25.3020 2021-03-01 00:15:07.7810 3276             Marin Light Rail      40.71458403535890      -74.04281705617910      3276           Marin Light Rail   40.71458403535890    -74.04281705617910    28583  Customer 1970                                 0\n",
       "2036         2021-03-01 00:16:39.7080 2021-03-01 00:50:35.8980 3276             Marin Light Rail      40.71458403535890      -74.04281705617910      3280           Astor Place        40.71928220070700    -74.07126188278200    46627  Customer 1970                                 0\n",
       "366          2021-03-01 00:21:44.7390 2021-03-01 00:27:51.6070 3639             Harborside            40.7192517             -74.034234              3205           JC Medical Center  40.71653978099190    -74.0496379137039     43798  Customer 1970                                 0\n",
       "...                                                                                                                                                                                                                                                                                  ...\n",
       "493          2021-03-31 23:49:04.6750 2021-03-31 23:57:17.7900 3185             City Hall             40.7177325             -74.043845              3192           Liberty Light Rail 40.7112423           -74.0557013           45261  Customer 1970                                 0\n",
       "296          2021-03-31 23:49:33.7240 2021-03-31 23:54:29.8450 3186             Grove St PATH         40.71958611647170      -74.04311746358870      3203           Hamilton Park      40.727595966         -74.044247311         45499  Customer 1970                                 0\n",
       "346          2021-03-31 23:53:36.2020 2021-03-31 23:59:22.2370 3187             Warren St             40.7211236             -74.03805095            3199           Newport Pkwy       40.7287448           -74.0321082           42635  Customer 1970                                 0\n",
       "872          2021-03-31 23:54:36.3950 2021-04-01 00:09:09.1080 3193             Lincoln Park          40.7246050998869       -74.07840594649320      3206           Hilltop            40.7311689           -74.0575736           27102  Customer 1970                                 0\n",
       "587          2021-03-31 23:58:04.5740 2021-04-01 00:07:52.2170 3225             Baldwin at Montgomery 40.7236589             -74.0641943             3276           Marin Light Rail   40.71458403535890    -74.04281705617910    45940  Customer 1970                                 0\n",
       "\n",
       "[16844 rows x 1 columns]"
      ],
      "text/html": "<div>\n<style scoped>\n    .dataframe tbody tr th:only-of-type {\n        vertical-align: middle;\n    }\n\n    .dataframe tbody tr th {\n        vertical-align: top;\n    }\n\n    .dataframe thead th {\n        text-align: right;\n    }\n</style>\n<table border=\"1\" class=\"dataframe\">\n  <thead>\n    <tr style=\"text-align: right;\">\n      <th></th>\n      <th></th>\n      <th></th>\n      <th></th>\n      <th></th>\n      <th></th>\n      <th></th>\n      <th></th>\n      <th></th>\n      <th></th>\n      <th></th>\n      <th></th>\n      <th></th>\n      <th></th>\n      <th>JC-202103-citibike-tripdata</th>\n    </tr>\n  </thead>\n  <tbody>\n    <tr>\n      <th>tripduration</th>\n      <th>starttime</th>\n      <th>stoptime</th>\n      <th>start station id</th>\n      <th>start station name</th>\n      <th>start station latitude</th>\n      <th>start station longitude</th>\n      <th>end station id</th>\n      <th>end station name</th>\n      <th>end station latitude</th>\n      <th>end station longitude</th>\n      <th>bikeid</th>\n      <th>usertype</th>\n      <th>birth year</th>\n      <td>gender</td>\n    </tr>\n    <tr>\n      <th>369</th>\n      <th>2021-03-01 00:07:46.3700</th>\n      <th>2021-03-01 00:13:55.6430</th>\n      <th>3202</th>\n      <th>Newport PATH</th>\n      <th>40.7272235</th>\n      <th>-74.0337589</th>\n      <th>3639</th>\n      <th>Harborside</th>\n      <th>40.7192517</th>\n      <th>-74.034234</th>\n      <th>43798</th>\n      <th>Customer</th>\n      <th>1970</th>\n      <td>0</td>\n    </tr>\n    <tr>\n      <th>102</th>\n      <th>2021-03-01 00:13:25.3020</th>\n      <th>2021-03-01 00:15:07.7810</th>\n      <th>3276</th>\n      <th>Marin Light Rail</th>\n      <th>40.71458403535890</th>\n      <th>-74.04281705617910</th>\n      <th>3276</th>\n      <th>Marin Light Rail</th>\n      <th>40.71458403535890</th>\n      <th>-74.04281705617910</th>\n      <th>28583</th>\n      <th>Customer</th>\n      <th>1970</th>\n      <td>0</td>\n    </tr>\n    <tr>\n      <th>2036</th>\n      <th>2021-03-01 00:16:39.7080</th>\n      <th>2021-03-01 00:50:35.8980</th>\n      <th>3276</th>\n      <th>Marin Light Rail</th>\n      <th>40.71458403535890</th>\n      <th>-74.04281705617910</th>\n      <th>3280</th>\n      <th>Astor Place</th>\n      <th>40.71928220070700</th>\n      <th>-74.07126188278200</th>\n      <th>46627</th>\n      <th>Customer</th>\n      <th>1970</th>\n      <td>0</td>\n    </tr>\n    <tr>\n      <th>366</th>\n      <th>2021-03-01 00:21:44.7390</th>\n      <th>2021-03-01 00:27:51.6070</th>\n      <th>3639</th>\n      <th>Harborside</th>\n      <th>40.7192517</th>\n      <th>-74.034234</th>\n      <th>3205</th>\n      <th>JC Medical Center</th>\n      <th>40.71653978099190</th>\n      <th>-74.0496379137039</th>\n      <th>43798</th>\n      <th>Customer</th>\n      <th>1970</th>\n      <td>0</td>\n    </tr>\n    <tr>\n      <th>...</th>\n      <th>...</th>\n      <th>...</th>\n      <th>...</th>\n      <th>...</th>\n      <th>...</th>\n      <th>...</th>\n      <th>...</th>\n      <th>...</th>\n      <th>...</th>\n      <th>...</th>\n      <th>...</th>\n      <th>...</th>\n      <th>...</th>\n      <td>...</td>\n    </tr>\n    <tr>\n      <th>493</th>\n      <th>2021-03-31 23:49:04.6750</th>\n      <th>2021-03-31 23:57:17.7900</th>\n      <th>3185</th>\n      <th>City Hall</th>\n      <th>40.7177325</th>\n      <th>-74.043845</th>\n      <th>3192</th>\n      <th>Liberty Light Rail</th>\n      <th>40.7112423</th>\n      <th>-74.0557013</th>\n      <th>45261</th>\n      <th>Customer</th>\n      <th>1970</th>\n      <td>0</td>\n    </tr>\n    <tr>\n      <th>296</th>\n      <th>2021-03-31 23:49:33.7240</th>\n      <th>2021-03-31 23:54:29.8450</th>\n      <th>3186</th>\n      <th>Grove St PATH</th>\n      <th>40.71958611647170</th>\n      <th>-74.04311746358870</th>\n      <th>3203</th>\n      <th>Hamilton Park</th>\n      <th>40.727595966</th>\n      <th>-74.044247311</th>\n      <th>45499</th>\n      <th>Customer</th>\n      <th>1970</th>\n      <td>0</td>\n    </tr>\n    <tr>\n      <th>346</th>\n      <th>2021-03-31 23:53:36.2020</th>\n      <th>2021-03-31 23:59:22.2370</th>\n      <th>3187</th>\n      <th>Warren St</th>\n      <th>40.7211236</th>\n      <th>-74.03805095</th>\n      <th>3199</th>\n      <th>Newport Pkwy</th>\n      <th>40.7287448</th>\n      <th>-74.0321082</th>\n      <th>42635</th>\n      <th>Customer</th>\n      <th>1970</th>\n      <td>0</td>\n    </tr>\n    <tr>\n      <th>872</th>\n      <th>2021-03-31 23:54:36.3950</th>\n      <th>2021-04-01 00:09:09.1080</th>\n      <th>3193</th>\n      <th>Lincoln Park</th>\n      <th>40.7246050998869</th>\n      <th>-74.07840594649320</th>\n      <th>3206</th>\n      <th>Hilltop</th>\n      <th>40.7311689</th>\n      <th>-74.0575736</th>\n      <th>27102</th>\n      <th>Customer</th>\n      <th>1970</th>\n      <td>0</td>\n    </tr>\n    <tr>\n      <th>587</th>\n      <th>2021-03-31 23:58:04.5740</th>\n      <th>2021-04-01 00:07:52.2170</th>\n      <th>3225</th>\n      <th>Baldwin at Montgomery</th>\n      <th>40.7236589</th>\n      <th>-74.0641943</th>\n      <th>3276</th>\n      <th>Marin Light Rail</th>\n      <th>40.71458403535890</th>\n      <th>-74.04281705617910</th>\n      <th>45940</th>\n      <th>Customer</th>\n      <th>1970</th>\n      <td>0</td>\n    </tr>\n  </tbody>\n</table>\n<p>16844 rows × 1 columns</p>\n</div>"
     },
     "metadata": {},
     "execution_count": 47
    }
   ],
   "source": [
    "df"
   ]
  },
  {
   "cell_type": "code",
   "execution_count": 63,
   "metadata": {},
   "outputs": [],
   "source": [
    "# df['starttime'] = df['starttime'].values.astype(dtype='datetime64[ms]') # for msec format"
   ]
  },
  {
   "cell_type": "code",
   "execution_count": 64,
   "metadata": {},
   "outputs": [],
   "source": [
    "# df['starttime'] = (df['starttime']/day_divider).values.astype(dtype='datetime64[D]') # for day format"
   ]
  },
  {
   "cell_type": "code",
   "execution_count": 49,
   "metadata": {
    "inputHidden": false,
    "outputHidden": false
   },
   "outputs": [
    {
     "output_type": "execute_result",
     "data": {
      "text/plain": [
       "JC-202103-citibike-tripdata    object\n",
       "dtype: object"
      ]
     },
     "metadata": {},
     "execution_count": 49
    }
   ],
   "source": [
    "# The Amount column is the wrong data type. It should be numeric.\n",
    "df.dtypes"
   ]
  },
  {
   "cell_type": "code",
   "execution_count": 50,
   "metadata": {
    "collapsed": true,
    "inputHidden": false,
    "outputHidden": false
   },
   "outputs": [],
   "source": [
    "# Use pd.to_numeric() method to convert the datatype of the Amount column\n",
    "# df['Amount'] = pd.to_numeric(df['Amount'])"
   ]
  },
  {
   "cell_type": "code",
   "execution_count": 51,
   "metadata": {
    "inputHidden": false,
    "outputHidden": false
   },
   "outputs": [],
   "source": [
    "# Verify that the Amount column datatype has been made numeric\n",
    "# df[''].dtype"
   ]
  },
  {
   "cell_type": "code",
   "execution_count": 52,
   "metadata": {
    "inputHidden": false,
    "outputHidden": false,
    "scrolled": true
   },
   "outputs": [
    {
     "output_type": "execute_result",
     "data": {
      "text/plain": [
       "JC-202103-citibike-tripdata\n",
       "0                              14953\n",
       "1                               1417\n",
       "2                                473\n",
       "gender                             1\n",
       "dtype: int64"
      ]
     },
     "metadata": {},
     "execution_count": 52
    }
   ],
   "source": [
    "# Display an overview of the Employers column\n",
    "df.value_counts().head(50)"
   ]
  },
  {
   "cell_type": "code",
   "execution_count": 53,
   "metadata": {},
   "outputs": [],
   "source": [
    "# df[\"gender\"].value_counts()"
   ]
  },
  {
   "cell_type": "code",
   "execution_count": 54,
   "metadata": {
    "inputHidden": false,
    "outputHidden": false
   },
   "outputs": [],
   "source": [
    "# Clean up Employer category. Replace 'Self Employed' and 'Self' with 'Self-Employed'\n",
    "# df['Employer'] = df['Employer'].replace(\n",
    "#     {\n",
    "#         'Self Employed': 'Self-Employed',\n",
    "#         'Self': 'Self-Employed'\n",
    "#     }\n",
    "# )"
   ]
  },
  {
   "cell_type": "code",
   "execution_count": 56,
   "metadata": {
    "inputHidden": false,
    "outputHidden": false,
    "scrolled": true
   },
   "outputs": [],
   "source": [
    "# Verify clean-up.\n",
    "# df['Employer'].value_counts().head(50)"
   ]
  },
  {
   "cell_type": "code",
   "execution_count": 57,
   "metadata": {
    "inputHidden": false,
    "outputHidden": false,
    "scrolled": true
   },
   "outputs": [],
   "source": [
    "# df['Employer'] = df['Employer'].replace({'Not Employed': 'Unemployed'})\n",
    "# df['Employer'].value_counts()"
   ]
  },
  {
   "cell_type": "code",
   "execution_count": 58,
   "metadata": {
    "inputHidden": false,
    "outputHidden": false
   },
   "outputs": [
    {
     "output_type": "execute_result",
     "data": {
      "text/plain": [
       "       JC-202103-citibike-tripdata\n",
       "count                        16844\n",
       "unique                           4\n",
       "top                              0\n",
       "freq                         14953"
      ],
      "text/html": "<div>\n<style scoped>\n    .dataframe tbody tr th:only-of-type {\n        vertical-align: middle;\n    }\n\n    .dataframe tbody tr th {\n        vertical-align: top;\n    }\n\n    .dataframe thead th {\n        text-align: right;\n    }\n</style>\n<table border=\"1\" class=\"dataframe\">\n  <thead>\n    <tr style=\"text-align: right;\">\n      <th></th>\n      <th>JC-202103-citibike-tripdata</th>\n    </tr>\n  </thead>\n  <tbody>\n    <tr>\n      <th>count</th>\n      <td>16844</td>\n    </tr>\n    <tr>\n      <th>unique</th>\n      <td>4</td>\n    </tr>\n    <tr>\n      <th>top</th>\n      <td>0</td>\n    </tr>\n    <tr>\n      <th>freq</th>\n      <td>14953</td>\n    </tr>\n  </tbody>\n</table>\n</div>"
     },
     "metadata": {},
     "execution_count": 58
    }
   ],
   "source": [
    "# Display a statistical overview\n",
    "# We can infer the maximum allowable individual contribution from 'max'\n",
    "df.describe()"
   ]
  },
  {
   "cell_type": "code",
   "execution_count": null,
   "metadata": {},
   "outputs": [],
   "source": []
  },
  {
   "cell_type": "code",
   "execution_count": 59,
   "metadata": {},
   "outputs": [],
   "source": [
    "# Name of the CSV file\n",
    "file2 = 'Resources/citibike_tripdata2.csv'"
   ]
  },
  {
   "cell_type": "code",
   "execution_count": 60,
   "metadata": {},
   "outputs": [],
   "source": [
    "df2 = pd.read_csv(file2, encoding=\"ISO-8859-1\")"
   ]
  },
  {
   "cell_type": "code",
   "execution_count": 61,
   "metadata": {},
   "outputs": [
    {
     "output_type": "execute_result",
     "data": {
      "text/plain": [
       "                                                                                                                                                                                                                                                                     JC-202104-citibike-tripdata\n",
       "tripduration starttime                stoptime                 start station id start station name    start station latitude start station longitude end station id end station name           end station latitude end station longitude bikeid usertype birth year                      gender\n",
       "1900         2021-04-01 00:07:25.4780 2021-04-01 00:39:06.0800 3225             Baldwin at Montgomery 40.7236589             -74.0641943             3225           Baldwin at Montgomery      40.7236589           -74.0641943           45464  Customer 1970                                 0\n",
       "236          2021-04-01 00:08:13.9440 2021-04-01 00:12:10.1330 3186             Grove St PATH         40.71958611647170      -74.04311746358870      3276           Marin Light Rail           40.71458403535890    -74.04281705617910    38392  Customer 1970                                 0\n",
       "1047         2021-04-01 00:11:01.4250 2021-04-01 00:28:28.5300 3276             Marin Light Rail      40.71458403535890      -74.04281705617910      3678           Fairmount Ave              40.72572613742560    -74.07195925712590    54268  Customer 1970                                 0\n",
       "491          2021-04-01 00:15:09.7010 2021-04-01 00:23:20.8380 3202             Newport PATH          40.7272235             -74.0337589             3792           Columbus Dr at Exchange Pl 40.71687             -74.03281             42307  Customer 1970                                 0"
      ],
      "text/html": "<div>\n<style scoped>\n    .dataframe tbody tr th:only-of-type {\n        vertical-align: middle;\n    }\n\n    .dataframe tbody tr th {\n        vertical-align: top;\n    }\n\n    .dataframe thead th {\n        text-align: right;\n    }\n</style>\n<table border=\"1\" class=\"dataframe\">\n  <thead>\n    <tr style=\"text-align: right;\">\n      <th></th>\n      <th></th>\n      <th></th>\n      <th></th>\n      <th></th>\n      <th></th>\n      <th></th>\n      <th></th>\n      <th></th>\n      <th></th>\n      <th></th>\n      <th></th>\n      <th></th>\n      <th></th>\n      <th>JC-202104-citibike-tripdata</th>\n    </tr>\n  </thead>\n  <tbody>\n    <tr>\n      <th>tripduration</th>\n      <th>starttime</th>\n      <th>stoptime</th>\n      <th>start station id</th>\n      <th>start station name</th>\n      <th>start station latitude</th>\n      <th>start station longitude</th>\n      <th>end station id</th>\n      <th>end station name</th>\n      <th>end station latitude</th>\n      <th>end station longitude</th>\n      <th>bikeid</th>\n      <th>usertype</th>\n      <th>birth year</th>\n      <td>gender</td>\n    </tr>\n    <tr>\n      <th>1900</th>\n      <th>2021-04-01 00:07:25.4780</th>\n      <th>2021-04-01 00:39:06.0800</th>\n      <th>3225</th>\n      <th>Baldwin at Montgomery</th>\n      <th>40.7236589</th>\n      <th>-74.0641943</th>\n      <th>3225</th>\n      <th>Baldwin at Montgomery</th>\n      <th>40.7236589</th>\n      <th>-74.0641943</th>\n      <th>45464</th>\n      <th>Customer</th>\n      <th>1970</th>\n      <td>0</td>\n    </tr>\n    <tr>\n      <th>236</th>\n      <th>2021-04-01 00:08:13.9440</th>\n      <th>2021-04-01 00:12:10.1330</th>\n      <th>3186</th>\n      <th>Grove St PATH</th>\n      <th>40.71958611647170</th>\n      <th>-74.04311746358870</th>\n      <th>3276</th>\n      <th>Marin Light Rail</th>\n      <th>40.71458403535890</th>\n      <th>-74.04281705617910</th>\n      <th>38392</th>\n      <th>Customer</th>\n      <th>1970</th>\n      <td>0</td>\n    </tr>\n    <tr>\n      <th>1047</th>\n      <th>2021-04-01 00:11:01.4250</th>\n      <th>2021-04-01 00:28:28.5300</th>\n      <th>3276</th>\n      <th>Marin Light Rail</th>\n      <th>40.71458403535890</th>\n      <th>-74.04281705617910</th>\n      <th>3678</th>\n      <th>Fairmount Ave</th>\n      <th>40.72572613742560</th>\n      <th>-74.07195925712590</th>\n      <th>54268</th>\n      <th>Customer</th>\n      <th>1970</th>\n      <td>0</td>\n    </tr>\n    <tr>\n      <th>491</th>\n      <th>2021-04-01 00:15:09.7010</th>\n      <th>2021-04-01 00:23:20.8380</th>\n      <th>3202</th>\n      <th>Newport PATH</th>\n      <th>40.7272235</th>\n      <th>-74.0337589</th>\n      <th>3792</th>\n      <th>Columbus Dr at Exchange Pl</th>\n      <th>40.71687</th>\n      <th>-74.03281</th>\n      <th>42307</th>\n      <th>Customer</th>\n      <th>1970</th>\n      <td>0</td>\n    </tr>\n  </tbody>\n</table>\n</div>"
     },
     "metadata": {},
     "execution_count": 61
    }
   ],
   "source": [
    "df2.head()"
   ]
  },
  {
   "cell_type": "code",
   "execution_count": 62,
   "metadata": {},
   "outputs": [
    {
     "output_type": "execute_result",
     "data": {
      "text/plain": [
       "JC-202104-citibike-tripdata\n",
       "0                              22392\n",
       "1                                667\n",
       "2                                259\n",
       "gender                             1\n",
       "dtype: int64"
      ]
     },
     "metadata": {},
     "execution_count": 62
    }
   ],
   "source": [
    "df2.value_counts().head(50)"
   ]
  },
  {
   "cell_type": "code",
   "execution_count": 66,
   "metadata": {},
   "outputs": [],
   "source": [
    "import pandas as pd\n",
    "import datetime"
   ]
  },
  {
   "cell_type": "code",
   "execution_count": 67,
   "metadata": {},
   "outputs": [],
   "source": [
    "# create a datetime data object\n",
    "d_time = datetime.date(2010, 11, 12)"
   ]
  },
  {
   "cell_type": "code",
   "execution_count": 68,
   "metadata": {},
   "outputs": [],
   "source": [
    "# create a pandas Timestamp object\n",
    "t_stamp = pd.to_datetime('2010/11/12')"
   ]
  },
  {
   "cell_type": "code",
   "execution_count": 69,
   "metadata": {},
   "outputs": [],
   "source": [
    "# cast `datetime_timestamp` as Timestamp object and compare\n",
    "d_time2t_stamp = pd.to_datetime(d_time)\n"
   ]
  },
  {
   "cell_type": "code",
   "execution_count": 70,
   "metadata": {},
   "outputs": [
    {
     "output_type": "stream",
     "name": "stdout",
     "text": [
      "2010-11-12\n2010-11-12 00:00:00\n2010-11-12 00:00:00\n"
     ]
    }
   ],
   "source": [
    "# print to double check\n",
    "print(d_time)\n",
    "print(t_stamp)\n",
    "print(d_time2t_stamp)"
   ]
  },
  {
   "cell_type": "code",
   "execution_count": 71,
   "metadata": {},
   "outputs": [
    {
     "output_type": "stream",
     "name": "stdout",
     "text": [
      "True\n"
     ]
    }
   ],
   "source": [
    "# since the conversion succeds this prints `True`\n",
    "print(d_time2t_stamp == t_stamp)"
   ]
  },
  {
   "cell_type": "code",
   "execution_count": null,
   "metadata": {},
   "outputs": [],
   "source": []
  },
  {
   "cell_type": "code",
   "execution_count": 75,
   "metadata": {},
   "outputs": [],
   "source": [
    "# day_divider = 86400000\n",
    "\n",
    "# df2['starttime'] = df2['starttime'].values.astype(dtype='datetime64[ms]') # for msec format\n",
    "\n",
    "# df2['starttime'] = (df2['starttime']/day_divider).values.astype(dtype='datetime64[D]') # for day format"
   ]
  },
  {
   "cell_type": "code",
   "execution_count": null,
   "metadata": {},
   "outputs": [],
   "source": []
  }
 ],
 "metadata": {
  "anaconda-cloud": {},
  "kernel_info": {
   "name": "python3"
  },
  "kernelspec": {
   "name": "python3613jvsc74a57bd02e86bb4a8b20d417404c7e36f8d5851dc01c09194186643532440d5ea91d6901",
   "display_name": "Python 3.6.13 64-bit ('PythonAdv': conda)"
  },
  "language_info": {
   "codemirror_mode": {
    "name": "ipython",
    "version": 3
   },
   "file_extension": ".py",
   "mimetype": "text/x-python",
   "name": "python",
   "nbconvert_exporter": "python",
   "pygments_lexer": "ipython3",
   "version": "3.6.13"
  },
  "nteract": {
   "version": "0.2.0"
  },
  "metadata": {
   "interpreter": {
    "hash": "e7187db8990b68686cbc008f0b425677ddbd423ebdf9644e068ff52652e5cd9a"
   }
  }
 },
 "nbformat": 4,
 "nbformat_minor": 2
}